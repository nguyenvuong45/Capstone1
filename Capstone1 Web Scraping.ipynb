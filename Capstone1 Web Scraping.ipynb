{
 "cells": [
  {
   "cell_type": "code",
   "execution_count": 22,
   "metadata": {},
   "outputs": [],
   "source": [
    "import pandas as pd\n",
    "import requests\n",
    "import requests_cache\n",
    "import re\n",
    "from bs4 import BeautifulSoup as bs\n",
    "\n",
    "requests_cache.install_cache(\"cache4\")"
   ]
  },
  {
   "cell_type": "code",
   "execution_count": 158,
   "metadata": {},
   "outputs": [],
   "source": [
    "recipes = pd.read_json('full_format_recipes.json')\n",
    "r = recipes.dropna(how='all')\n",
    "\n",
    "no_nutri = recipes[pd.isna(recipes.calories)]"
   ]
  },
  {
   "cell_type": "code",
   "execution_count": null,
   "metadata": {},
   "outputs": [],
   "source": []
  },
  {
   "cell_type": "code",
   "execution_count": 157,
   "metadata": {},
   "outputs": [
    {
     "name": "stdout",
     "output_type": "stream",
     "text": [
      "<class 'pandas.core.frame.DataFrame'>\n",
      "Int64Index: 20111 entries, 0 to 20129\n",
      "Data columns (total 11 columns):\n",
      "calories       15976 non-null float64\n",
      "categories     20111 non-null object\n",
      "date           20111 non-null datetime64[ns]\n",
      "desc           13495 non-null object\n",
      "directions     20111 non-null object\n",
      "fat            15908 non-null float64\n",
      "ingredients    20111 non-null object\n",
      "protein        15929 non-null float64\n",
      "rating         20100 non-null float64\n",
      "sodium         15974 non-null float64\n",
      "title          20111 non-null object\n",
      "dtypes: datetime64[ns](1), float64(5), object(5)\n",
      "memory usage: 1.8+ MB\n"
     ]
    }
   ],
   "source": [
    "r.info()"
   ]
  },
  {
   "cell_type": "code",
   "execution_count": 155,
   "metadata": {},
   "outputs": [
    {
     "name": "stdout",
     "output_type": "stream",
     "text": [
      "<class 'pandas.core.frame.DataFrame'>\n",
      "RangeIndex: 20130 entries, 0 to 20129\n",
      "Data columns (total 11 columns):\n",
      "calories       15976 non-null float64\n",
      "categories     20111 non-null object\n",
      "date           20111 non-null datetime64[ns]\n",
      "desc           13495 non-null object\n",
      "directions     20111 non-null object\n",
      "fat            15908 non-null float64\n",
      "ingredients    20111 non-null object\n",
      "protein        15929 non-null float64\n",
      "rating         20100 non-null float64\n",
      "sodium         15974 non-null float64\n",
      "title          20111 non-null object\n",
      "dtypes: datetime64[ns](1), float64(5), object(5)\n",
      "memory usage: 1.7+ MB\n"
     ]
    }
   ],
   "source": [
    "recipes.info()"
   ]
  },
  {
   "cell_type": "code",
   "execution_count": 122,
   "metadata": {},
   "outputs": [
    {
     "data": {
      "text/plain": [
       "['Mahi-Mahi in Tomato Olive Sauce ',\n",
       " 'Ham and Spring Vegetable Salad with Shallot Vinaigrette ',\n",
       " 'Spicy-Sweet Kumquats ',\n",
       " 'Spicy Noodle Soup ',\n",
       " '\"Fried\" Chicken ',\n",
       " 'Fish Fillets in Parchment with Asparagus and Orange ',\n",
       " 'Pancetta and Taleggio Lasagna with Treviso ',\n",
       " 'Asian Steak Topped with Bell Pepper Stir-Fry ',\n",
       " 'Moroccan-Style Preserved Lemons ',\n",
       " 'Fontina Mac with Squash and Sage ',\n",
       " 'Pastry Twists with Spiced Sugar-Honey Glaze ',\n",
       " 'Honey Rye ',\n",
       " 'Purple-Potato and Crab Gratin ',\n",
       " 'Grilled Beef, Jícama, and Apple Salad ',\n",
       " 'Herbed Goat Cheese Spread with Mint ',\n",
       " 'Braised Chicken With Artichokes and Olives ',\n",
       " 'Collard-and-Prosciutto Chicken Roulades Over Watercress Salad ',\n",
       " 'Orange-Almond Cake with Chocolate Icing ',\n",
       " 'Anadama Rolls with Mixed Seeds ',\n",
       " 'Bacon Crackers ']"
      ]
     },
     "execution_count": 122,
     "metadata": {},
     "output_type": "execute_result"
    }
   ],
   "source": [
    "list(no_nutri.title)[:20]"
   ]
  },
  {
   "cell_type": "code",
   "execution_count": 154,
   "metadata": {},
   "outputs": [
    {
     "name": "stdout",
     "output_type": "stream",
     "text": [
      "<class 'pandas.core.frame.DataFrame'>\n",
      "Int64Index: 19 entries, 1076 to 19547\n",
      "Data columns (total 11 columns):\n",
      "calories       0 non-null float64\n",
      "categories     0 non-null object\n",
      "date           0 non-null datetime64[ns]\n",
      "desc           0 non-null object\n",
      "directions     0 non-null object\n",
      "fat            0 non-null float64\n",
      "ingredients    0 non-null object\n",
      "protein        0 non-null float64\n",
      "rating         0 non-null float64\n",
      "sodium         0 non-null float64\n",
      "title          0 non-null object\n",
      "dtypes: datetime64[ns](1), float64(5), object(5)\n",
      "memory usage: 1.8+ KB\n"
     ]
    }
   ],
   "source": [
    "recipes[pd.isna(recipes.title)].info()"
   ]
  },
  {
   "cell_type": "code",
   "execution_count": 152,
   "metadata": {},
   "outputs": [
    {
     "data": {
      "text/plain": [
       "calories       NaN\n",
       "categories     NaN\n",
       "date           NaT\n",
       "desc           NaN\n",
       "directions     NaN\n",
       "fat            NaN\n",
       "ingredients    NaN\n",
       "protein        NaN\n",
       "rating         NaN\n",
       "sodium         NaN\n",
       "title          NaN\n",
       "Name: 1076, dtype: object"
      ]
     },
     "execution_count": 152,
     "metadata": {},
     "output_type": "execute_result"
    }
   ],
   "source": [
    "no_nutri.iloc[213]"
   ]
  },
  {
   "cell_type": "code",
   "execution_count": 33,
   "metadata": {},
   "outputs": [
    {
     "data": {
      "text/plain": [
       "'Lentil,%20Apple,%20and%20Turkey%20Wrap'"
      ]
     },
     "execution_count": 33,
     "metadata": {},
     "output_type": "execute_result"
    }
   ],
   "source": [
    "recipes.title[0].strip().replace(' ','%20')"
   ]
  },
  {
   "cell_type": "code",
   "execution_count": 137,
   "metadata": {},
   "outputs": [],
   "source": [
    "import unidecode"
   ]
  },
  {
   "cell_type": "code",
   "execution_count": 142,
   "metadata": {},
   "outputs": [
    {
     "ename": "AttributeError",
     "evalue": "'float' object has no attribute 'encode'",
     "output_type": "error",
     "traceback": [
      "\u001b[1;31m---------------------------------------------------------------------------\u001b[0m",
      "\u001b[1;31mAttributeError\u001b[0m                            Traceback (most recent call last)",
      "\u001b[1;32m<ipython-input-142-729a99cb1f95>\u001b[0m in \u001b[0;36m<module>\u001b[1;34m()\u001b[0m\n\u001b[0;32m      3\u001b[0m \u001b[1;31m# recs_clean = [unidecode.unidecode(rec) for rec in recs]\u001b[0m\u001b[1;33m\u001b[0m\u001b[1;33m\u001b[0m\u001b[0m\n\u001b[0;32m      4\u001b[0m \u001b[1;32mfor\u001b[0m \u001b[0mrec\u001b[0m \u001b[1;32min\u001b[0m \u001b[0mrecs\u001b[0m\u001b[1;33m:\u001b[0m\u001b[1;33m\u001b[0m\u001b[0m\n\u001b[1;32m----> 5\u001b[1;33m     \u001b[0mrecs_clean\u001b[0m\u001b[1;33m.\u001b[0m\u001b[0mappend\u001b[0m\u001b[1;33m(\u001b[0m\u001b[0munidecode\u001b[0m\u001b[1;33m.\u001b[0m\u001b[0munidecode\u001b[0m\u001b[1;33m(\u001b[0m\u001b[0mrec\u001b[0m\u001b[1;33m)\u001b[0m\u001b[1;33m)\u001b[0m\u001b[1;33m\u001b[0m\u001b[0m\n\u001b[0m",
      "\u001b[1;32m~\\Anaconda3\\lib\\site-packages\\unidecode\\__init__.py\u001b[0m in \u001b[0;36munidecode_expect_ascii\u001b[1;34m(string)\u001b[0m\n\u001b[0;32m     46\u001b[0m     \u001b[0m_warn_if_not_unicode\u001b[0m\u001b[1;33m(\u001b[0m\u001b[0mstring\u001b[0m\u001b[1;33m)\u001b[0m\u001b[1;33m\u001b[0m\u001b[0m\n\u001b[0;32m     47\u001b[0m     \u001b[1;32mtry\u001b[0m\u001b[1;33m:\u001b[0m\u001b[1;33m\u001b[0m\u001b[0m\n\u001b[1;32m---> 48\u001b[1;33m         \u001b[0mbytestring\u001b[0m \u001b[1;33m=\u001b[0m \u001b[0mstring\u001b[0m\u001b[1;33m.\u001b[0m\u001b[0mencode\u001b[0m\u001b[1;33m(\u001b[0m\u001b[1;34m'ASCII'\u001b[0m\u001b[1;33m)\u001b[0m\u001b[1;33m\u001b[0m\u001b[0m\n\u001b[0m\u001b[0;32m     49\u001b[0m     \u001b[1;32mexcept\u001b[0m \u001b[0mUnicodeEncodeError\u001b[0m\u001b[1;33m:\u001b[0m\u001b[1;33m\u001b[0m\u001b[0m\n\u001b[0;32m     50\u001b[0m         \u001b[1;32mreturn\u001b[0m \u001b[0m_unidecode\u001b[0m\u001b[1;33m(\u001b[0m\u001b[0mstring\u001b[0m\u001b[1;33m)\u001b[0m\u001b[1;33m\u001b[0m\u001b[0m\n",
      "\u001b[1;31mAttributeError\u001b[0m: 'float' object has no attribute 'encode'"
     ]
    }
   ],
   "source": [
    "recs = [e for e in no_nutri.title if e is not null]\n",
    "recs_clean = []\n",
    "# recs_clean = [unidecode.unidecode(rec) for rec in recs]\n",
    "for rec in recs:\n",
    "    recs_clean.append(unidecode.unidecode(rec))"
   ]
  },
  {
   "cell_type": "code",
   "execution_count": 151,
   "metadata": {},
   "outputs": [
    {
     "data": {
      "text/plain": [
       "nan"
      ]
     },
     "execution_count": 151,
     "metadata": {},
     "output_type": "execute_result"
    }
   ],
   "source": [
    "recs.index('Green Chile Charmoula ')\n",
    "recs[213]"
   ]
  },
  {
   "cell_type": "code",
   "execution_count": 143,
   "metadata": {},
   "outputs": [
    {
     "data": {
      "text/plain": [
       "['Mahi-Mahi in Tomato Olive Sauce ',\n",
       " 'Ham and Spring Vegetable Salad with Shallot Vinaigrette ',\n",
       " 'Spicy-Sweet Kumquats ',\n",
       " 'Spicy Noodle Soup ',\n",
       " '\"Fried\" Chicken ',\n",
       " 'Fish Fillets in Parchment with Asparagus and Orange ',\n",
       " 'Pancetta and Taleggio Lasagna with Treviso ',\n",
       " 'Asian Steak Topped with Bell Pepper Stir-Fry ',\n",
       " 'Moroccan-Style Preserved Lemons ',\n",
       " 'Fontina Mac with Squash and Sage ',\n",
       " 'Pastry Twists with Spiced Sugar-Honey Glaze ',\n",
       " 'Honey Rye ',\n",
       " 'Purple-Potato and Crab Gratin ',\n",
       " 'Grilled Beef, Jicama, and Apple Salad ',\n",
       " 'Herbed Goat Cheese Spread with Mint ',\n",
       " 'Braised Chicken With Artichokes and Olives ',\n",
       " 'Collard-and-Prosciutto Chicken Roulades Over Watercress Salad ',\n",
       " 'Orange-Almond Cake with Chocolate Icing ',\n",
       " 'Anadama Rolls with Mixed Seeds ',\n",
       " 'Bacon Crackers ',\n",
       " 'Ricotta Omelets ',\n",
       " 'Carrot, Snow Pea, and Red Pepper Julienne in Honey Vinaigrette ',\n",
       " 'Grilled Steak Salad with Beets and Scallions ',\n",
       " 'Short Rib Pot Pie ',\n",
       " 'Sausage Fennel Stuffing ',\n",
       " 'Baked Pears with Rosemary, Gorgonzola Cheese and Port ',\n",
       " 'Chocolate-Mint Shamrock Shake ',\n",
       " 'Cod Cannelloni with Swiss Chard and Roasted Pepper ',\n",
       " 'Roasted Bell Pepper Halves Stuffed with Bulgur and Spinach ',\n",
       " 'Cherry Lime Virgin Rickeys ',\n",
       " 'Gnocchi with Tomato, Basil, and Olives ',\n",
       " 'Roasted Root Vegetables ',\n",
       " 'Potato Gnocchi with Shrimp and Peas ',\n",
       " 'Mackerel with Crushed Potatoes and Oregano ',\n",
       " 'Oriental Chicken and Cabbage Salad ',\n",
       " 'Dark Chocolate Wedding Cake with Chocolate Orange Ganache and Orange Buttercream ',\n",
       " 'Tomato Jam ',\n",
       " 'Steamed Chicken with Black Mushrooms and Bok Choy ',\n",
       " 'Molten Peanut Butter and Chocolate Fondant Cakes ',\n",
       " 'Snapper Escabeche with Charred Scallions ',\n",
       " 'Maple Butter-Pecan Ice Cream ',\n",
       " 'Grilled Vegetable Antipasto with Herbed Chevre and Crostini ',\n",
       " 'Potato Gratin with Goat Cheese ',\n",
       " 'Seasoned Nori Wrappers ',\n",
       " 'Chocolate Hazelnut Pound Cake with Chocolate Glaze ',\n",
       " 'Orange Mint Julep ',\n",
       " 'Lemon-Parsley Linguine ',\n",
       " 'Southwest Veggie Nachos ',\n",
       " 'Ginger Creme Brulee ',\n",
       " 'Bratwurst and Red Cabbage ',\n",
       " 'Roasted Quail with Wild Mushrooms ',\n",
       " 'Salmon Confit in Olive Oil with Arugula Salad and Balsamic Vinegar ',\n",
       " 'Wild Rice with Carrots ',\n",
       " 'Fennel-Rubbed Pork Roast ',\n",
       " 'Apple Treacle Tart ',\n",
       " 'Orange Cranberry Bundt Cake ',\n",
       " 'Baked Trout with Shiitake Mushrooms, Tomatoes, and Ginger ',\n",
       " 'Raisin-Bread Strata with Sausage and Dried Plums ',\n",
       " 'Sanuki Sea Stock ',\n",
       " 'Farfalle with Spinach and Garbanzo Beans ',\n",
       " 'Figs with Honey-Orange Mascarpone and Pistachio Brittle ',\n",
       " 'Spicy Tahini Sauce ',\n",
       " 'Charred Broccoli Salad with Eggplant Puree ',\n",
       " 'Corn Salad With Hazelnuts, Pecorino, and Mint ',\n",
       " 'Lamb Steaks ',\n",
       " 'Horseradish-Pumpkin Seed Pesto ',\n",
       " 'Cornmeal Waffles ',\n",
       " 'Peanut Butter Berry-Wich ',\n",
       " 'Grilled Turkey Burgers ',\n",
       " 'Toasted Almond Cream Pie with Boysenberry Topping ',\n",
       " 'Habanero-Orange Salsa ',\n",
       " 'Triple-Whammy Saffroned Tomato-Fennel Soup ',\n",
       " 'Grilled Swordfish and Green Olive Relish ',\n",
       " 'Black Bean and Red Pepper Salad ',\n",
       " 'Winter Squash and Chicken Stew with Indian Spices ',\n",
       " 'Seasoned Nori Wrappers ',\n",
       " 'Angry Lobster with Lemon Rice and Crispy Basil ',\n",
       " 'Chilled Eggplant Soup with Red Bell Pepper and Olives ',\n",
       " 'Vanilla Mousse Meringues and Fresh Berries ',\n",
       " \"Tony's Negronis \",\n",
       " 'Grilled Curried Mangoes with Ginger Ice Milk ',\n",
       " \"Paris's Crimson Champagne Cocktail \",\n",
       " 'Zucchini Potato Tortilla ',\n",
       " 'Kimchi-Style Sauteed Cabbage ',\n",
       " 'Dried-Cranberry Spread ',\n",
       " 'Beet, Carrot, and Apple Juice with Ginger ',\n",
       " \"Mom's Hearty Chicken and Rice Soup \",\n",
       " 'Candied Grapefruit Strips ',\n",
       " 'Walnut Risotto with Roasted Asparagus ',\n",
       " 'Saffron Rouille ',\n",
       " 'Veal, Mushroom, and Red Pepper Goulash ',\n",
       " 'Mixed Berry Torte ',\n",
       " 'Bittersweet Chocolate-Citrus Tart with Jasmine Whipped Cream ',\n",
       " 'Fish Tacos ',\n",
       " 'Banana-Pineapple Yogurt Smoothie ',\n",
       " 'Cider-Glazed Lamb Chops ',\n",
       " 'Tatemado de Costilla de Res (Tatemado Short Ribs) ',\n",
       " 'Cranberry-Pepper Jelly ',\n",
       " 'Bulgur Veggie Burgers with Lime Mayonnaise ',\n",
       " 'Brown Rice Pilaf with Saffron and Ginger ',\n",
       " 'Grilled Vegetables with Mixed Greens and Blue Cheese Dressing ',\n",
       " 'Green Chile Stew ',\n",
       " 'Caramelized Pineapple with Ginger Creme Anglaise ',\n",
       " 'Seafood and Turkey-Sausage Gumbo ',\n",
       " 'Multi-Grain Pasta with Butternut Squash, Ground Lamb, and Kasseri ',\n",
       " 'Sauteed Chicken and Radishes with Mustard and Tarragon ',\n",
       " 'Honey-Glazed Lemon Chicken ',\n",
       " 'Pasta Shells with Chicken, Mushrooms, Escarole, and Sun-Dried Tomatoes ',\n",
       " 'Tago ',\n",
       " 'Green Bean Ceasar Salad ',\n",
       " 'Rice Pancakes ',\n",
       " 'Sofrito Grilled Bread ',\n",
       " 'Blue Mountain ',\n",
       " 'Sausage, Bell Pepper, and Onion Focaccia Sandwiches ',\n",
       " 'Salmon with Black Bean Sauce ',\n",
       " 'Rose, Bourbon, and Blue ',\n",
       " 'Dijon Chicken Breasts ',\n",
       " 'Sweet Red Pepper Soup ',\n",
       " 'Plum-Almond Tartlets ',\n",
       " 'Simplest Asian Dressing ',\n",
       " 'White Bean and Artichoke Dip ',\n",
       " 'Grilled Tuna and Roasted Pepper Sandwiches on Thyme Focaccia ',\n",
       " 'New Millennium Waldorf Salad ',\n",
       " 'Roasted Pineapple-Habanero Chile Salsa ',\n",
       " 'Fajitas ',\n",
       " 'Waldorf Salad Celery Boats ',\n",
       " 'Chocolate Almond Torte ',\n",
       " 'Lobster Salad with Curried Mango Dressing ',\n",
       " 'Buttermilk Ice Cream with Spiced Fruit Compote ',\n",
       " 'Coffee and Turron Ice Cream Torte with Honey-Brandy Oranges ',\n",
       " 'Yam Makeua Yang ',\n",
       " 'Spicy Pickled Plums ',\n",
       " 'Reheating Corn Tortillas ',\n",
       " 'Roasted Pepper and Onion Salad with Blue Cheese ',\n",
       " 'Chocolate Coconut Squares ',\n",
       " 'Greek-Style Mahi Mahi ',\n",
       " 'Rose in June Fizz ',\n",
       " 'Thick White Noodles in Soup, Topped with Eggs and Scallions ',\n",
       " 'Lasagna with Asparagus, Leeks, and Morels ',\n",
       " 'Double Orange Spritzer ',\n",
       " 'Green Pozole with Chicken ',\n",
       " 'Yogurt and Cucumber Salad (Tzatziki or Cacik) ',\n",
       " 'Seared Beef Tenderloin with Mustard-Horseradish Sauce ',\n",
       " 'Celery Duo ',\n",
       " \"Daniel Boulud's Short Ribs Braised in Red Wine with Celery Duo \",\n",
       " 'Bobotie ',\n",
       " 'Summer Fruit Shrub Cocktail ',\n",
       " 'Homemade Cultured Butter ',\n",
       " 'Honey-Turmeric Pork with Beet and Carrot Salad ',\n",
       " 'Chili-Rubbed Rib-Eye Steaks ',\n",
       " 'Smoky Tomato Sauce ',\n",
       " 'Blueberry Almond Praline Sundae ',\n",
       " 'Raw Nut Butter ',\n",
       " 'Pear Champagne Cocktail ',\n",
       " 'Sweet and Tangy Hummus ',\n",
       " 'Kiddie Cobb Salad ',\n",
       " 'Grilled Peppered Dry Spareribs ',\n",
       " 'Mushroom-Ham Brochettes with Garlic Mayonnaise ',\n",
       " 'To Toast and Skin Hazelnuts ',\n",
       " 'Herb-and-Spice Southern Fried Chicken ',\n",
       " 'Grilled Cheese and Fried Egg Sandwiches ',\n",
       " 'Hearts of Palm Salad with Beets and Blue Cheese ',\n",
       " 'Corn Fritters with Spicy Zucchini Salsa ',\n",
       " 'Wild Turkey Spritzer ',\n",
       " 'Winter Herb Pasta ',\n",
       " 'Caneton au Muscadet ',\n",
       " 'Pumpkin Creme Brulee ',\n",
       " 'Steamed Scallion Ginger Fish Fillets with Bok Choy ',\n",
       " 'Greek Salad ',\n",
       " \"S'mores Coffee and Fudge Ice Cream Cake \",\n",
       " 'Pasta With Spicy Sausage, Radicchio, and Sun-Dried Tomatoes ',\n",
       " 'Passover Chocolate Torte with Raspberry Sauce ',\n",
       " 'Peanut Butter, Banana and Date Sandwiches ',\n",
       " 'Salmon with Roasted Asparagus and Lemon-Caper Sauce ',\n",
       " 'Family Curried Beef Pot Pie ',\n",
       " 'Steakburger With Tangy Caramelized Onions and Herb Butter ',\n",
       " 'Herbed Oyster Crakers ',\n",
       " 'Roasted Baby Carrots, with Chile, Mint and Orange Glaze ',\n",
       " 'Balsamic Roasted Tomato and Goat Cheese Crisps ',\n",
       " 'Barbecued Turkey with Maple-Mustard Glaze ',\n",
       " 'Tomato, Onion, and Roasted Lemon Salad ',\n",
       " 'Pistachio Gelato ',\n",
       " 'Asian Glazed Salmon ',\n",
       " 'Watermelon Sorbet ',\n",
       " 'Open-Face Prosciutto, Fresh Ricotta, and Red-Onion Marmalade Sandwiches ',\n",
       " 'Braised Chicken with Dates and Moroccan Spices ',\n",
       " 'Low-Fat Orange and Almond Cream Cheese Pie ',\n",
       " 'Smoked Turkey Sandwiches with Orange Cranberry Sauce ',\n",
       " 'Aquavit-Marinated Shrimp ',\n",
       " 'Duck Salad with Cheese Toasts and Port-Currant Sauce ',\n",
       " 'Moroccan Salmon Crudo with Yogurt ',\n",
       " 'Jamaican Jerk Salmon and Mango Pineapple Salsa ',\n",
       " 'Toasted Barley Salad with Red Bell Pepper, Corn and Grilled Portobello Mushrooms ',\n",
       " 'Rutabaga Puree ',\n",
       " 'Family-Size Chicken Pot Pie ',\n",
       " 'Grilled Chicken and Shrimp Kebabs with Lemon and Garlic ',\n",
       " 'Juicy Bella ',\n",
       " 'Grilled Tandoori Lamb ',\n",
       " 'Thai Summer Rolls ',\n",
       " 'Spiced Chili Sauce ',\n",
       " 'Salmon With Potato Salad and Horseradish Yogurt ',\n",
       " 'Halibut with Vegetable Ragout ',\n",
       " 'Ginger-Miso Striped Bass in Shiitake Mushroom Broth ',\n",
       " 'Blueberry Buckwheat Pancakes ',\n",
       " 'Potato, Kale, and Kielbasa Casserole ',\n",
       " 'Ham, Gruyere, and Parmesan Sauce for Asparagus ',\n",
       " 'Scallops with Almonds ',\n",
       " 'Ginger Ice Milk ',\n",
       " 'Gemelli with Shrimp, Red Bell Peppers, and Peas ',\n",
       " 'Mojo Rojo ',\n",
       " 'Puff Pastry ',\n",
       " 'Fava Bean and Spring Vegetable Soup ',\n",
       " 'Green Chile Charmoula ']"
      ]
     },
     "execution_count": 143,
     "metadata": {},
     "output_type": "execute_result"
    }
   ],
   "source": [
    "recs_clean"
   ]
  },
  {
   "cell_type": "code",
   "execution_count": 125,
   "metadata": {},
   "outputs": [],
   "source": [
    "base_url = 'https://www.epicurious.com/'\n",
    "rec_urls = []\n",
    "\n",
    "def get_url(terms):\n",
    "    \n",
    "#     search_urls = [base_url + term.replace(' ', '%20') for term in terms]\n",
    "    for term in terms:\n",
    "        page = 1\n",
    "        while page < 11:\n",
    "            search_url = f\"{base_url}search/{term.strip().replace(' ', '%20')}?content=recipe&page={page}\"\n",
    "            regex = f\"^/recipes/food/views/{term.strip().replace(' ', '-').lower()}-[0-9]{{1,6}}\"\n",
    "            regex = regex.replace('\"', '')\n",
    "#         print(search_url, regex)\n",
    "            req = requests.get(search_url)\n",
    "            soup = bs(req.text, 'lxml')\n",
    "        \n",
    "            try:\n",
    "                rec_urls.append(base_url + soup.find('a', attrs={'href': re.compile(regex)})['href'])\n",
    "                break\n",
    "            except TypeError:\n",
    "                page += 1\n",
    "            if page == 10:\n",
    "                print('Unsuccessful')\n",
    "        print(f\"{rec_urls[-1]}: {len(rec_urls) - 1}\")\n",
    "                \n",
    "        \n",
    "#         search_url = base_url + 'search/' + term.strip().replace(' ', '%20')\n",
    "#         regex = '^/recipes/food/views/' + term.strip().replace(' ', '-').lower() + '-' + '[0-9]{1,6}'\n",
    "# #         print(search_url, regex)\n",
    "#         req = requests.get(search_url)\n",
    "#         soup = bs(req.text, 'lxml')\n",
    "#         try:\n",
    "#             rec_urls.append(base_url + soup.find('a', attrs={'href': re.compile(regex)})['href'])\n",
    "#         except TypeError:\n",
    "#             for page in range(2,10):\n",
    "#                 search_url += '?page=' + page\n",
    "#                 req = \n",
    "#     return rec_urls\n",
    "        \n",
    "#     for url in urls:\n",
    "#         req = requests.get(url)\n",
    "#         soup = bs(req.text, 'lxml')\n",
    "        \n",
    "    \n",
    "    \n",
    "#     return urls\n",
    "\n",
    "        \n"
   ]
  },
  {
   "cell_type": "code",
   "execution_count": 126,
   "metadata": {},
   "outputs": [
    {
     "name": "stdout",
     "output_type": "stream",
     "text": [
      "https://www.epicurious.com//recipes/food/views/mahi-mahi-in-tomato-olive-sauce-352551: 0\n",
      "https://www.epicurious.com//recipes/food/views/ham-and-spring-vegetable-salad-with-shallot-vinaigrette-5212: 1\n",
      "https://www.epicurious.com//recipes/food/views/spicy-sweet-kumquats-102726: 2\n",
      "https://www.epicurious.com//recipes/food/views/spicy-noodle-soup-103188: 3\n",
      "https://www.epicurious.com//recipes/food/views/fried-chicken-105048: 4\n",
      "https://www.epicurious.com//recipes/food/views/fish-fillets-in-parchment-with-asparagus-and-orange-241849: 5\n",
      "https://www.epicurious.com//recipes/food/views/pancetta-and-taleggio-lasagna-with-treviso-356354: 6\n",
      "https://www.epicurious.com//recipes/food/views/asian-steak-topped-with-bell-pepper-stir-fry-350398: 7\n",
      "https://www.epicurious.com//recipes/food/views/moroccan-style-preserved-lemons-242341: 8\n",
      "https://www.epicurious.com//recipes/food/views/fontina-mac-with-squash-and-sage-51206440: 9\n",
      "https://www.epicurious.com//recipes/food/views/pastry-twists-with-spiced-sugar-honey-glaze-358569: 10\n",
      "https://www.epicurious.com//recipes/food/views/honey-rye-367137: 11\n",
      "https://www.epicurious.com//recipes/food/views/purple-potato-and-crab-gratin-15629: 12\n"
     ]
    },
    {
     "ename": "KeyboardInterrupt",
     "evalue": "",
     "output_type": "error",
     "traceback": [
      "\u001b[1;31m---------------------------------------------------------------------------\u001b[0m",
      "\u001b[1;31mKeyboardInterrupt\u001b[0m                         Traceback (most recent call last)",
      "\u001b[1;32m<ipython-input-126-d5951523e342>\u001b[0m in \u001b[0;36m<module>\u001b[1;34m()\u001b[0m\n\u001b[0;32m      1\u001b[0m \u001b[1;31m# get_url(list(no_nutri.title)[0])\u001b[0m\u001b[1;33m\u001b[0m\u001b[1;33m\u001b[0m\u001b[0m\n\u001b[0;32m      2\u001b[0m \u001b[1;31m# get_url([no_nutri.title.iloc[0]])\u001b[0m\u001b[1;33m\u001b[0m\u001b[1;33m\u001b[0m\u001b[0m\n\u001b[1;32m----> 3\u001b[1;33m \u001b[0mget_url\u001b[0m\u001b[1;33m(\u001b[0m\u001b[0mlist\u001b[0m\u001b[1;33m(\u001b[0m\u001b[0mno_nutri\u001b[0m\u001b[1;33m.\u001b[0m\u001b[0mtitle\u001b[0m\u001b[1;33m[\u001b[0m\u001b[1;33m:\u001b[0m\u001b[1;36m20\u001b[0m\u001b[1;33m]\u001b[0m\u001b[1;33m)\u001b[0m\u001b[1;33m)\u001b[0m\u001b[1;33m\u001b[0m\u001b[0m\n\u001b[0m",
      "\u001b[1;32m<ipython-input-125-52b3871e6c58>\u001b[0m in \u001b[0;36mget_url\u001b[1;34m(terms)\u001b[0m\n\u001b[0;32m     12\u001b[0m             \u001b[0mregex\u001b[0m \u001b[1;33m=\u001b[0m \u001b[0mregex\u001b[0m\u001b[1;33m.\u001b[0m\u001b[0mreplace\u001b[0m\u001b[1;33m(\u001b[0m\u001b[1;34m'\"'\u001b[0m\u001b[1;33m,\u001b[0m \u001b[1;34m''\u001b[0m\u001b[1;33m)\u001b[0m\u001b[1;33m\u001b[0m\u001b[0m\n\u001b[0;32m     13\u001b[0m \u001b[1;31m#         print(search_url, regex)\u001b[0m\u001b[1;33m\u001b[0m\u001b[1;33m\u001b[0m\u001b[0m\n\u001b[1;32m---> 14\u001b[1;33m             \u001b[0mreq\u001b[0m \u001b[1;33m=\u001b[0m \u001b[0mrequests\u001b[0m\u001b[1;33m.\u001b[0m\u001b[0mget\u001b[0m\u001b[1;33m(\u001b[0m\u001b[0msearch_url\u001b[0m\u001b[1;33m)\u001b[0m\u001b[1;33m\u001b[0m\u001b[0m\n\u001b[0m\u001b[0;32m     15\u001b[0m             \u001b[0msoup\u001b[0m \u001b[1;33m=\u001b[0m \u001b[0mbs\u001b[0m\u001b[1;33m(\u001b[0m\u001b[0mreq\u001b[0m\u001b[1;33m.\u001b[0m\u001b[0mtext\u001b[0m\u001b[1;33m,\u001b[0m \u001b[1;34m'lxml'\u001b[0m\u001b[1;33m)\u001b[0m\u001b[1;33m\u001b[0m\u001b[0m\n\u001b[0;32m     16\u001b[0m \u001b[1;33m\u001b[0m\u001b[0m\n",
      "\u001b[1;32m~\\Anaconda3\\lib\\site-packages\\requests\\api.py\u001b[0m in \u001b[0;36mget\u001b[1;34m(url, params, **kwargs)\u001b[0m\n\u001b[0;32m     70\u001b[0m \u001b[1;33m\u001b[0m\u001b[0m\n\u001b[0;32m     71\u001b[0m     \u001b[0mkwargs\u001b[0m\u001b[1;33m.\u001b[0m\u001b[0msetdefault\u001b[0m\u001b[1;33m(\u001b[0m\u001b[1;34m'allow_redirects'\u001b[0m\u001b[1;33m,\u001b[0m \u001b[1;32mTrue\u001b[0m\u001b[1;33m)\u001b[0m\u001b[1;33m\u001b[0m\u001b[0m\n\u001b[1;32m---> 72\u001b[1;33m     \u001b[1;32mreturn\u001b[0m \u001b[0mrequest\u001b[0m\u001b[1;33m(\u001b[0m\u001b[1;34m'get'\u001b[0m\u001b[1;33m,\u001b[0m \u001b[0murl\u001b[0m\u001b[1;33m,\u001b[0m \u001b[0mparams\u001b[0m\u001b[1;33m=\u001b[0m\u001b[0mparams\u001b[0m\u001b[1;33m,\u001b[0m \u001b[1;33m**\u001b[0m\u001b[0mkwargs\u001b[0m\u001b[1;33m)\u001b[0m\u001b[1;33m\u001b[0m\u001b[0m\n\u001b[0m\u001b[0;32m     73\u001b[0m \u001b[1;33m\u001b[0m\u001b[0m\n\u001b[0;32m     74\u001b[0m \u001b[1;33m\u001b[0m\u001b[0m\n",
      "\u001b[1;32m~\\Anaconda3\\lib\\site-packages\\requests\\api.py\u001b[0m in \u001b[0;36mrequest\u001b[1;34m(method, url, **kwargs)\u001b[0m\n\u001b[0;32m     56\u001b[0m     \u001b[1;31m# cases, and look like a memory leak in others.\u001b[0m\u001b[1;33m\u001b[0m\u001b[1;33m\u001b[0m\u001b[0m\n\u001b[0;32m     57\u001b[0m     \u001b[1;32mwith\u001b[0m \u001b[0msessions\u001b[0m\u001b[1;33m.\u001b[0m\u001b[0mSession\u001b[0m\u001b[1;33m(\u001b[0m\u001b[1;33m)\u001b[0m \u001b[1;32mas\u001b[0m \u001b[0msession\u001b[0m\u001b[1;33m:\u001b[0m\u001b[1;33m\u001b[0m\u001b[0m\n\u001b[1;32m---> 58\u001b[1;33m         \u001b[1;32mreturn\u001b[0m \u001b[0msession\u001b[0m\u001b[1;33m.\u001b[0m\u001b[0mrequest\u001b[0m\u001b[1;33m(\u001b[0m\u001b[0mmethod\u001b[0m\u001b[1;33m=\u001b[0m\u001b[0mmethod\u001b[0m\u001b[1;33m,\u001b[0m \u001b[0murl\u001b[0m\u001b[1;33m=\u001b[0m\u001b[0murl\u001b[0m\u001b[1;33m,\u001b[0m \u001b[1;33m**\u001b[0m\u001b[0mkwargs\u001b[0m\u001b[1;33m)\u001b[0m\u001b[1;33m\u001b[0m\u001b[0m\n\u001b[0m\u001b[0;32m     59\u001b[0m \u001b[1;33m\u001b[0m\u001b[0m\n\u001b[0;32m     60\u001b[0m \u001b[1;33m\u001b[0m\u001b[0m\n",
      "\u001b[1;32m~\\Anaconda3\\lib\\site-packages\\requests_cache\\core.py\u001b[0m in \u001b[0;36mrequest\u001b[1;34m(self, method, url, params, data, **kwargs)\u001b[0m\n\u001b[0;32m    124\u001b[0m             \u001b[0m_normalize_parameters\u001b[0m\u001b[1;33m(\u001b[0m\u001b[0mparams\u001b[0m\u001b[1;33m)\u001b[0m\u001b[1;33m,\u001b[0m\u001b[1;33m\u001b[0m\u001b[0m\n\u001b[0;32m    125\u001b[0m             \u001b[0m_normalize_parameters\u001b[0m\u001b[1;33m(\u001b[0m\u001b[0mdata\u001b[0m\u001b[1;33m)\u001b[0m\u001b[1;33m,\u001b[0m\u001b[1;33m\u001b[0m\u001b[0m\n\u001b[1;32m--> 126\u001b[1;33m             \u001b[1;33m**\u001b[0m\u001b[0mkwargs\u001b[0m\u001b[1;33m\u001b[0m\u001b[0m\n\u001b[0m\u001b[0;32m    127\u001b[0m         )\n\u001b[0;32m    128\u001b[0m         \u001b[1;32mif\u001b[0m \u001b[0mself\u001b[0m\u001b[1;33m.\u001b[0m\u001b[0m_is_cache_disabled\u001b[0m\u001b[1;33m:\u001b[0m\u001b[1;33m\u001b[0m\u001b[0m\n",
      "\u001b[1;32m~\\Anaconda3\\lib\\site-packages\\requests\\sessions.py\u001b[0m in \u001b[0;36mrequest\u001b[1;34m(self, method, url, params, data, headers, cookies, files, auth, timeout, allow_redirects, proxies, hooks, stream, verify, cert, json)\u001b[0m\n\u001b[0;32m    506\u001b[0m         }\n\u001b[0;32m    507\u001b[0m         \u001b[0msend_kwargs\u001b[0m\u001b[1;33m.\u001b[0m\u001b[0mupdate\u001b[0m\u001b[1;33m(\u001b[0m\u001b[0msettings\u001b[0m\u001b[1;33m)\u001b[0m\u001b[1;33m\u001b[0m\u001b[0m\n\u001b[1;32m--> 508\u001b[1;33m         \u001b[0mresp\u001b[0m \u001b[1;33m=\u001b[0m \u001b[0mself\u001b[0m\u001b[1;33m.\u001b[0m\u001b[0msend\u001b[0m\u001b[1;33m(\u001b[0m\u001b[0mprep\u001b[0m\u001b[1;33m,\u001b[0m \u001b[1;33m**\u001b[0m\u001b[0msend_kwargs\u001b[0m\u001b[1;33m)\u001b[0m\u001b[1;33m\u001b[0m\u001b[0m\n\u001b[0m\u001b[0;32m    509\u001b[0m \u001b[1;33m\u001b[0m\u001b[0m\n\u001b[0;32m    510\u001b[0m         \u001b[1;32mreturn\u001b[0m \u001b[0mresp\u001b[0m\u001b[1;33m\u001b[0m\u001b[0m\n",
      "\u001b[1;32m~\\Anaconda3\\lib\\site-packages\\requests_cache\\core.py\u001b[0m in \u001b[0;36msend\u001b[1;34m(self, request, **kwargs)\u001b[0m\n\u001b[0;32m     97\u001b[0m         \u001b[0mresponse\u001b[0m\u001b[1;33m,\u001b[0m \u001b[0mtimestamp\u001b[0m \u001b[1;33m=\u001b[0m \u001b[0mself\u001b[0m\u001b[1;33m.\u001b[0m\u001b[0mcache\u001b[0m\u001b[1;33m.\u001b[0m\u001b[0mget_response_and_time\u001b[0m\u001b[1;33m(\u001b[0m\u001b[0mcache_key\u001b[0m\u001b[1;33m)\u001b[0m\u001b[1;33m\u001b[0m\u001b[0m\n\u001b[0;32m     98\u001b[0m         \u001b[1;32mif\u001b[0m \u001b[0mresponse\u001b[0m \u001b[1;32mis\u001b[0m \u001b[1;32mNone\u001b[0m\u001b[1;33m:\u001b[0m\u001b[1;33m\u001b[0m\u001b[0m\n\u001b[1;32m---> 99\u001b[1;33m             \u001b[1;32mreturn\u001b[0m \u001b[0msend_request_and_cache_response\u001b[0m\u001b[1;33m(\u001b[0m\u001b[1;33m)\u001b[0m\u001b[1;33m\u001b[0m\u001b[0m\n\u001b[0m\u001b[0;32m    100\u001b[0m \u001b[1;33m\u001b[0m\u001b[0m\n\u001b[0;32m    101\u001b[0m         \u001b[1;32mif\u001b[0m \u001b[0mself\u001b[0m\u001b[1;33m.\u001b[0m\u001b[0m_cache_expire_after\u001b[0m \u001b[1;32mis\u001b[0m \u001b[1;32mnot\u001b[0m \u001b[1;32mNone\u001b[0m\u001b[1;33m:\u001b[0m\u001b[1;33m\u001b[0m\u001b[0m\n",
      "\u001b[1;32m~\\Anaconda3\\lib\\site-packages\\requests_cache\\core.py\u001b[0m in \u001b[0;36msend_request_and_cache_response\u001b[1;34m()\u001b[0m\n\u001b[0;32m     89\u001b[0m \u001b[1;33m\u001b[0m\u001b[0m\n\u001b[0;32m     90\u001b[0m         \u001b[1;32mdef\u001b[0m \u001b[0msend_request_and_cache_response\u001b[0m\u001b[1;33m(\u001b[0m\u001b[1;33m)\u001b[0m\u001b[1;33m:\u001b[0m\u001b[1;33m\u001b[0m\u001b[0m\n\u001b[1;32m---> 91\u001b[1;33m             \u001b[0mresponse\u001b[0m \u001b[1;33m=\u001b[0m \u001b[0msuper\u001b[0m\u001b[1;33m(\u001b[0m\u001b[0mCachedSession\u001b[0m\u001b[1;33m,\u001b[0m \u001b[0mself\u001b[0m\u001b[1;33m)\u001b[0m\u001b[1;33m.\u001b[0m\u001b[0msend\u001b[0m\u001b[1;33m(\u001b[0m\u001b[0mrequest\u001b[0m\u001b[1;33m,\u001b[0m \u001b[1;33m**\u001b[0m\u001b[0mkwargs\u001b[0m\u001b[1;33m)\u001b[0m\u001b[1;33m\u001b[0m\u001b[0m\n\u001b[0m\u001b[0;32m     92\u001b[0m             \u001b[1;32mif\u001b[0m \u001b[0mresponse\u001b[0m\u001b[1;33m.\u001b[0m\u001b[0mstatus_code\u001b[0m \u001b[1;32min\u001b[0m \u001b[0mself\u001b[0m\u001b[1;33m.\u001b[0m\u001b[0m_cache_allowable_codes\u001b[0m\u001b[1;33m:\u001b[0m\u001b[1;33m\u001b[0m\u001b[0m\n\u001b[0;32m     93\u001b[0m                 \u001b[0mself\u001b[0m\u001b[1;33m.\u001b[0m\u001b[0mcache\u001b[0m\u001b[1;33m.\u001b[0m\u001b[0msave_response\u001b[0m\u001b[1;33m(\u001b[0m\u001b[0mcache_key\u001b[0m\u001b[1;33m,\u001b[0m \u001b[0mresponse\u001b[0m\u001b[1;33m)\u001b[0m\u001b[1;33m\u001b[0m\u001b[0m\n",
      "\u001b[1;32m~\\Anaconda3\\lib\\site-packages\\requests\\sessions.py\u001b[0m in \u001b[0;36msend\u001b[1;34m(self, request, **kwargs)\u001b[0m\n\u001b[0;32m    656\u001b[0m \u001b[1;33m\u001b[0m\u001b[0m\n\u001b[0;32m    657\u001b[0m         \u001b[1;32mif\u001b[0m \u001b[1;32mnot\u001b[0m \u001b[0mstream\u001b[0m\u001b[1;33m:\u001b[0m\u001b[1;33m\u001b[0m\u001b[0m\n\u001b[1;32m--> 658\u001b[1;33m             \u001b[0mr\u001b[0m\u001b[1;33m.\u001b[0m\u001b[0mcontent\u001b[0m\u001b[1;33m\u001b[0m\u001b[0m\n\u001b[0m\u001b[0;32m    659\u001b[0m \u001b[1;33m\u001b[0m\u001b[0m\n\u001b[0;32m    660\u001b[0m         \u001b[1;32mreturn\u001b[0m \u001b[0mr\u001b[0m\u001b[1;33m\u001b[0m\u001b[0m\n",
      "\u001b[1;32m~\\Anaconda3\\lib\\site-packages\\requests\\models.py\u001b[0m in \u001b[0;36mcontent\u001b[1;34m(self)\u001b[0m\n\u001b[0;32m    821\u001b[0m                 \u001b[0mself\u001b[0m\u001b[1;33m.\u001b[0m\u001b[0m_content\u001b[0m \u001b[1;33m=\u001b[0m \u001b[1;32mNone\u001b[0m\u001b[1;33m\u001b[0m\u001b[0m\n\u001b[0;32m    822\u001b[0m             \u001b[1;32melse\u001b[0m\u001b[1;33m:\u001b[0m\u001b[1;33m\u001b[0m\u001b[0m\n\u001b[1;32m--> 823\u001b[1;33m                 \u001b[0mself\u001b[0m\u001b[1;33m.\u001b[0m\u001b[0m_content\u001b[0m \u001b[1;33m=\u001b[0m \u001b[0mbytes\u001b[0m\u001b[1;33m(\u001b[0m\u001b[1;33m)\u001b[0m\u001b[1;33m.\u001b[0m\u001b[0mjoin\u001b[0m\u001b[1;33m(\u001b[0m\u001b[0mself\u001b[0m\u001b[1;33m.\u001b[0m\u001b[0miter_content\u001b[0m\u001b[1;33m(\u001b[0m\u001b[0mCONTENT_CHUNK_SIZE\u001b[0m\u001b[1;33m)\u001b[0m\u001b[1;33m)\u001b[0m \u001b[1;32mor\u001b[0m \u001b[0mbytes\u001b[0m\u001b[1;33m(\u001b[0m\u001b[1;33m)\u001b[0m\u001b[1;33m\u001b[0m\u001b[0m\n\u001b[0m\u001b[0;32m    824\u001b[0m \u001b[1;33m\u001b[0m\u001b[0m\n\u001b[0;32m    825\u001b[0m         \u001b[0mself\u001b[0m\u001b[1;33m.\u001b[0m\u001b[0m_content_consumed\u001b[0m \u001b[1;33m=\u001b[0m \u001b[1;32mTrue\u001b[0m\u001b[1;33m\u001b[0m\u001b[0m\n",
      "\u001b[1;32m~\\Anaconda3\\lib\\site-packages\\requests\\models.py\u001b[0m in \u001b[0;36mgenerate\u001b[1;34m()\u001b[0m\n\u001b[0;32m    743\u001b[0m             \u001b[1;32mif\u001b[0m \u001b[0mhasattr\u001b[0m\u001b[1;33m(\u001b[0m\u001b[0mself\u001b[0m\u001b[1;33m.\u001b[0m\u001b[0mraw\u001b[0m\u001b[1;33m,\u001b[0m \u001b[1;34m'stream'\u001b[0m\u001b[1;33m)\u001b[0m\u001b[1;33m:\u001b[0m\u001b[1;33m\u001b[0m\u001b[0m\n\u001b[0;32m    744\u001b[0m                 \u001b[1;32mtry\u001b[0m\u001b[1;33m:\u001b[0m\u001b[1;33m\u001b[0m\u001b[0m\n\u001b[1;32m--> 745\u001b[1;33m                     \u001b[1;32mfor\u001b[0m \u001b[0mchunk\u001b[0m \u001b[1;32min\u001b[0m \u001b[0mself\u001b[0m\u001b[1;33m.\u001b[0m\u001b[0mraw\u001b[0m\u001b[1;33m.\u001b[0m\u001b[0mstream\u001b[0m\u001b[1;33m(\u001b[0m\u001b[0mchunk_size\u001b[0m\u001b[1;33m,\u001b[0m \u001b[0mdecode_content\u001b[0m\u001b[1;33m=\u001b[0m\u001b[1;32mTrue\u001b[0m\u001b[1;33m)\u001b[0m\u001b[1;33m:\u001b[0m\u001b[1;33m\u001b[0m\u001b[0m\n\u001b[0m\u001b[0;32m    746\u001b[0m                         \u001b[1;32myield\u001b[0m \u001b[0mchunk\u001b[0m\u001b[1;33m\u001b[0m\u001b[0m\n\u001b[0;32m    747\u001b[0m                 \u001b[1;32mexcept\u001b[0m \u001b[0mProtocolError\u001b[0m \u001b[1;32mas\u001b[0m \u001b[0me\u001b[0m\u001b[1;33m:\u001b[0m\u001b[1;33m\u001b[0m\u001b[0m\n",
      "\u001b[1;32m~\\Anaconda3\\lib\\site-packages\\urllib3\\response.py\u001b[0m in \u001b[0;36mstream\u001b[1;34m(self, amt, decode_content)\u001b[0m\n\u001b[0;32m    434\u001b[0m         \u001b[1;32melse\u001b[0m\u001b[1;33m:\u001b[0m\u001b[1;33m\u001b[0m\u001b[0m\n\u001b[0;32m    435\u001b[0m             \u001b[1;32mwhile\u001b[0m \u001b[1;32mnot\u001b[0m \u001b[0mis_fp_closed\u001b[0m\u001b[1;33m(\u001b[0m\u001b[0mself\u001b[0m\u001b[1;33m.\u001b[0m\u001b[0m_fp\u001b[0m\u001b[1;33m)\u001b[0m\u001b[1;33m:\u001b[0m\u001b[1;33m\u001b[0m\u001b[0m\n\u001b[1;32m--> 436\u001b[1;33m                 \u001b[0mdata\u001b[0m \u001b[1;33m=\u001b[0m \u001b[0mself\u001b[0m\u001b[1;33m.\u001b[0m\u001b[0mread\u001b[0m\u001b[1;33m(\u001b[0m\u001b[0mamt\u001b[0m\u001b[1;33m=\u001b[0m\u001b[0mamt\u001b[0m\u001b[1;33m,\u001b[0m \u001b[0mdecode_content\u001b[0m\u001b[1;33m=\u001b[0m\u001b[0mdecode_content\u001b[0m\u001b[1;33m)\u001b[0m\u001b[1;33m\u001b[0m\u001b[0m\n\u001b[0m\u001b[0;32m    437\u001b[0m \u001b[1;33m\u001b[0m\u001b[0m\n\u001b[0;32m    438\u001b[0m                 \u001b[1;32mif\u001b[0m \u001b[0mdata\u001b[0m\u001b[1;33m:\u001b[0m\u001b[1;33m\u001b[0m\u001b[0m\n",
      "\u001b[1;32m~\\Anaconda3\\lib\\site-packages\\urllib3\\response.py\u001b[0m in \u001b[0;36mread\u001b[1;34m(self, amt, decode_content, cache_content)\u001b[0m\n\u001b[0;32m    382\u001b[0m             \u001b[1;32melse\u001b[0m\u001b[1;33m:\u001b[0m\u001b[1;33m\u001b[0m\u001b[0m\n\u001b[0;32m    383\u001b[0m                 \u001b[0mcache_content\u001b[0m \u001b[1;33m=\u001b[0m \u001b[1;32mFalse\u001b[0m\u001b[1;33m\u001b[0m\u001b[0m\n\u001b[1;32m--> 384\u001b[1;33m                 \u001b[0mdata\u001b[0m \u001b[1;33m=\u001b[0m \u001b[0mself\u001b[0m\u001b[1;33m.\u001b[0m\u001b[0m_fp\u001b[0m\u001b[1;33m.\u001b[0m\u001b[0mread\u001b[0m\u001b[1;33m(\u001b[0m\u001b[0mamt\u001b[0m\u001b[1;33m)\u001b[0m\u001b[1;33m\u001b[0m\u001b[0m\n\u001b[0m\u001b[0;32m    385\u001b[0m                 \u001b[1;32mif\u001b[0m \u001b[0mamt\u001b[0m \u001b[1;33m!=\u001b[0m \u001b[1;36m0\u001b[0m \u001b[1;32mand\u001b[0m \u001b[1;32mnot\u001b[0m \u001b[0mdata\u001b[0m\u001b[1;33m:\u001b[0m  \u001b[1;31m# Platform-specific: Buggy versions of Python.\u001b[0m\u001b[1;33m\u001b[0m\u001b[0m\n\u001b[0;32m    386\u001b[0m                     \u001b[1;31m# Close the connection when no data is returned\u001b[0m\u001b[1;33m\u001b[0m\u001b[1;33m\u001b[0m\u001b[0m\n",
      "\u001b[1;32m~\\Anaconda3\\lib\\http\\client.py\u001b[0m in \u001b[0;36mread\u001b[1;34m(self, amt)\u001b[0m\n\u001b[0;32m    447\u001b[0m             \u001b[1;31m# Amount is given, implement using readinto\u001b[0m\u001b[1;33m\u001b[0m\u001b[1;33m\u001b[0m\u001b[0m\n\u001b[0;32m    448\u001b[0m             \u001b[0mb\u001b[0m \u001b[1;33m=\u001b[0m \u001b[0mbytearray\u001b[0m\u001b[1;33m(\u001b[0m\u001b[0mamt\u001b[0m\u001b[1;33m)\u001b[0m\u001b[1;33m\u001b[0m\u001b[0m\n\u001b[1;32m--> 449\u001b[1;33m             \u001b[0mn\u001b[0m \u001b[1;33m=\u001b[0m \u001b[0mself\u001b[0m\u001b[1;33m.\u001b[0m\u001b[0mreadinto\u001b[0m\u001b[1;33m(\u001b[0m\u001b[0mb\u001b[0m\u001b[1;33m)\u001b[0m\u001b[1;33m\u001b[0m\u001b[0m\n\u001b[0m\u001b[0;32m    450\u001b[0m             \u001b[1;32mreturn\u001b[0m \u001b[0mmemoryview\u001b[0m\u001b[1;33m(\u001b[0m\u001b[0mb\u001b[0m\u001b[1;33m)\u001b[0m\u001b[1;33m[\u001b[0m\u001b[1;33m:\u001b[0m\u001b[0mn\u001b[0m\u001b[1;33m]\u001b[0m\u001b[1;33m.\u001b[0m\u001b[0mtobytes\u001b[0m\u001b[1;33m(\u001b[0m\u001b[1;33m)\u001b[0m\u001b[1;33m\u001b[0m\u001b[0m\n\u001b[0;32m    451\u001b[0m         \u001b[1;32melse\u001b[0m\u001b[1;33m:\u001b[0m\u001b[1;33m\u001b[0m\u001b[0m\n",
      "\u001b[1;32m~\\Anaconda3\\lib\\http\\client.py\u001b[0m in \u001b[0;36mreadinto\u001b[1;34m(self, b)\u001b[0m\n\u001b[0;32m    491\u001b[0m         \u001b[1;31m# connection, and the user is reading more bytes than will be provided\u001b[0m\u001b[1;33m\u001b[0m\u001b[1;33m\u001b[0m\u001b[0m\n\u001b[0;32m    492\u001b[0m         \u001b[1;31m# (for example, reading in 1k chunks)\u001b[0m\u001b[1;33m\u001b[0m\u001b[1;33m\u001b[0m\u001b[0m\n\u001b[1;32m--> 493\u001b[1;33m         \u001b[0mn\u001b[0m \u001b[1;33m=\u001b[0m \u001b[0mself\u001b[0m\u001b[1;33m.\u001b[0m\u001b[0mfp\u001b[0m\u001b[1;33m.\u001b[0m\u001b[0mreadinto\u001b[0m\u001b[1;33m(\u001b[0m\u001b[0mb\u001b[0m\u001b[1;33m)\u001b[0m\u001b[1;33m\u001b[0m\u001b[0m\n\u001b[0m\u001b[0;32m    494\u001b[0m         \u001b[1;32mif\u001b[0m \u001b[1;32mnot\u001b[0m \u001b[0mn\u001b[0m \u001b[1;32mand\u001b[0m \u001b[0mb\u001b[0m\u001b[1;33m:\u001b[0m\u001b[1;33m\u001b[0m\u001b[0m\n\u001b[0;32m    495\u001b[0m             \u001b[1;31m# Ideally, we would raise IncompleteRead if the content-length\u001b[0m\u001b[1;33m\u001b[0m\u001b[1;33m\u001b[0m\u001b[0m\n",
      "\u001b[1;32m~\\Anaconda3\\lib\\socket.py\u001b[0m in \u001b[0;36mreadinto\u001b[1;34m(self, b)\u001b[0m\n\u001b[0;32m    584\u001b[0m         \u001b[1;32mwhile\u001b[0m \u001b[1;32mTrue\u001b[0m\u001b[1;33m:\u001b[0m\u001b[1;33m\u001b[0m\u001b[0m\n\u001b[0;32m    585\u001b[0m             \u001b[1;32mtry\u001b[0m\u001b[1;33m:\u001b[0m\u001b[1;33m\u001b[0m\u001b[0m\n\u001b[1;32m--> 586\u001b[1;33m                 \u001b[1;32mreturn\u001b[0m \u001b[0mself\u001b[0m\u001b[1;33m.\u001b[0m\u001b[0m_sock\u001b[0m\u001b[1;33m.\u001b[0m\u001b[0mrecv_into\u001b[0m\u001b[1;33m(\u001b[0m\u001b[0mb\u001b[0m\u001b[1;33m)\u001b[0m\u001b[1;33m\u001b[0m\u001b[0m\n\u001b[0m\u001b[0;32m    587\u001b[0m             \u001b[1;32mexcept\u001b[0m \u001b[0mtimeout\u001b[0m\u001b[1;33m:\u001b[0m\u001b[1;33m\u001b[0m\u001b[0m\n\u001b[0;32m    588\u001b[0m                 \u001b[0mself\u001b[0m\u001b[1;33m.\u001b[0m\u001b[0m_timeout_occurred\u001b[0m \u001b[1;33m=\u001b[0m \u001b[1;32mTrue\u001b[0m\u001b[1;33m\u001b[0m\u001b[0m\n",
      "\u001b[1;32m~\\Anaconda3\\lib\\site-packages\\urllib3\\contrib\\pyopenssl.py\u001b[0m in \u001b[0;36mrecv_into\u001b[1;34m(self, *args, **kwargs)\u001b[0m\n\u001b[0;32m    278\u001b[0m     \u001b[1;32mdef\u001b[0m \u001b[0mrecv_into\u001b[0m\u001b[1;33m(\u001b[0m\u001b[0mself\u001b[0m\u001b[1;33m,\u001b[0m \u001b[1;33m*\u001b[0m\u001b[0margs\u001b[0m\u001b[1;33m,\u001b[0m \u001b[1;33m**\u001b[0m\u001b[0mkwargs\u001b[0m\u001b[1;33m)\u001b[0m\u001b[1;33m:\u001b[0m\u001b[1;33m\u001b[0m\u001b[0m\n\u001b[0;32m    279\u001b[0m         \u001b[1;32mtry\u001b[0m\u001b[1;33m:\u001b[0m\u001b[1;33m\u001b[0m\u001b[0m\n\u001b[1;32m--> 280\u001b[1;33m             \u001b[1;32mreturn\u001b[0m \u001b[0mself\u001b[0m\u001b[1;33m.\u001b[0m\u001b[0mconnection\u001b[0m\u001b[1;33m.\u001b[0m\u001b[0mrecv_into\u001b[0m\u001b[1;33m(\u001b[0m\u001b[1;33m*\u001b[0m\u001b[0margs\u001b[0m\u001b[1;33m,\u001b[0m \u001b[1;33m**\u001b[0m\u001b[0mkwargs\u001b[0m\u001b[1;33m)\u001b[0m\u001b[1;33m\u001b[0m\u001b[0m\n\u001b[0m\u001b[0;32m    281\u001b[0m         \u001b[1;32mexcept\u001b[0m \u001b[0mOpenSSL\u001b[0m\u001b[1;33m.\u001b[0m\u001b[0mSSL\u001b[0m\u001b[1;33m.\u001b[0m\u001b[0mSysCallError\u001b[0m \u001b[1;32mas\u001b[0m \u001b[0me\u001b[0m\u001b[1;33m:\u001b[0m\u001b[1;33m\u001b[0m\u001b[0m\n\u001b[0;32m    282\u001b[0m             \u001b[1;32mif\u001b[0m \u001b[0mself\u001b[0m\u001b[1;33m.\u001b[0m\u001b[0msuppress_ragged_eofs\u001b[0m \u001b[1;32mand\u001b[0m \u001b[0me\u001b[0m\u001b[1;33m.\u001b[0m\u001b[0margs\u001b[0m \u001b[1;33m==\u001b[0m \u001b[1;33m(\u001b[0m\u001b[1;33m-\u001b[0m\u001b[1;36m1\u001b[0m\u001b[1;33m,\u001b[0m \u001b[1;34m'Unexpected EOF'\u001b[0m\u001b[1;33m)\u001b[0m\u001b[1;33m:\u001b[0m\u001b[1;33m\u001b[0m\u001b[0m\n",
      "\u001b[1;32m~\\Anaconda3\\lib\\site-packages\\OpenSSL\\SSL.py\u001b[0m in \u001b[0;36mrecv_into\u001b[1;34m(self, buffer, nbytes, flags)\u001b[0m\n\u001b[0;32m   1811\u001b[0m             \u001b[0mresult\u001b[0m \u001b[1;33m=\u001b[0m \u001b[0m_lib\u001b[0m\u001b[1;33m.\u001b[0m\u001b[0mSSL_peek\u001b[0m\u001b[1;33m(\u001b[0m\u001b[0mself\u001b[0m\u001b[1;33m.\u001b[0m\u001b[0m_ssl\u001b[0m\u001b[1;33m,\u001b[0m \u001b[0mbuf\u001b[0m\u001b[1;33m,\u001b[0m \u001b[0mnbytes\u001b[0m\u001b[1;33m)\u001b[0m\u001b[1;33m\u001b[0m\u001b[0m\n\u001b[0;32m   1812\u001b[0m         \u001b[1;32melse\u001b[0m\u001b[1;33m:\u001b[0m\u001b[1;33m\u001b[0m\u001b[0m\n\u001b[1;32m-> 1813\u001b[1;33m             \u001b[0mresult\u001b[0m \u001b[1;33m=\u001b[0m \u001b[0m_lib\u001b[0m\u001b[1;33m.\u001b[0m\u001b[0mSSL_read\u001b[0m\u001b[1;33m(\u001b[0m\u001b[0mself\u001b[0m\u001b[1;33m.\u001b[0m\u001b[0m_ssl\u001b[0m\u001b[1;33m,\u001b[0m \u001b[0mbuf\u001b[0m\u001b[1;33m,\u001b[0m \u001b[0mnbytes\u001b[0m\u001b[1;33m)\u001b[0m\u001b[1;33m\u001b[0m\u001b[0m\n\u001b[0m\u001b[0;32m   1814\u001b[0m         \u001b[0mself\u001b[0m\u001b[1;33m.\u001b[0m\u001b[0m_raise_ssl_error\u001b[0m\u001b[1;33m(\u001b[0m\u001b[0mself\u001b[0m\u001b[1;33m.\u001b[0m\u001b[0m_ssl\u001b[0m\u001b[1;33m,\u001b[0m \u001b[0mresult\u001b[0m\u001b[1;33m)\u001b[0m\u001b[1;33m\u001b[0m\u001b[0m\n\u001b[0;32m   1815\u001b[0m \u001b[1;33m\u001b[0m\u001b[0m\n",
      "\u001b[1;31mKeyboardInterrupt\u001b[0m: "
     ]
    }
   ],
   "source": [
    "# get_url(list(no_nutri.title)[0])\n",
    "# get_url([no_nutri.title.iloc[0]])\n",
    "get_url(list(no_nutri.title[:20]))"
   ]
  },
  {
   "cell_type": "code",
   "execution_count": 78,
   "metadata": {},
   "outputs": [
    {
     "name": "stdout",
     "output_type": "stream",
     "text": [
      "this is https://www.epicurious.com/\n"
     ]
    }
   ],
   "source": [
    "print(f'this is {base_url}')"
   ]
  },
  {
   "cell_type": "code",
   "execution_count": 67,
   "metadata": {},
   "outputs": [
    {
     "name": "stdout",
     "output_type": "stream",
     "text": [
      "cant convert thisto int\n",
      "cant convert thatto int\n",
      "success1\n"
     ]
    }
   ],
   "source": [
    "c = 0\n",
    "l=['this', 'that','1','2']\n",
    "while True:\n",
    "    try:\n",
    "        int(l[c])\n",
    "        print('success' + l[c])\n",
    "        break\n",
    "    except: \n",
    "        print('cant convert ' + l[c] + 'to int')\n",
    "        c += 1"
   ]
  },
  {
   "cell_type": "code",
   "execution_count": 127,
   "metadata": {},
   "outputs": [
    {
     "data": {
      "text/plain": [
       "['https://www.epicurious.com//recipes/food/views/mahi-mahi-in-tomato-olive-sauce-352551',\n",
       " 'https://www.epicurious.com//recipes/food/views/ham-and-spring-vegetable-salad-with-shallot-vinaigrette-5212',\n",
       " 'https://www.epicurious.com//recipes/food/views/spicy-sweet-kumquats-102726',\n",
       " 'https://www.epicurious.com//recipes/food/views/spicy-noodle-soup-103188',\n",
       " 'https://www.epicurious.com//recipes/food/views/fried-chicken-105048',\n",
       " 'https://www.epicurious.com//recipes/food/views/fish-fillets-in-parchment-with-asparagus-and-orange-241849',\n",
       " 'https://www.epicurious.com//recipes/food/views/pancetta-and-taleggio-lasagna-with-treviso-356354',\n",
       " 'https://www.epicurious.com//recipes/food/views/asian-steak-topped-with-bell-pepper-stir-fry-350398',\n",
       " 'https://www.epicurious.com//recipes/food/views/moroccan-style-preserved-lemons-242341',\n",
       " 'https://www.epicurious.com//recipes/food/views/fontina-mac-with-squash-and-sage-51206440',\n",
       " 'https://www.epicurious.com//recipes/food/views/pastry-twists-with-spiced-sugar-honey-glaze-358569',\n",
       " 'https://www.epicurious.com//recipes/food/views/honey-rye-367137',\n",
       " 'https://www.epicurious.com//recipes/food/views/purple-potato-and-crab-gratin-15629']"
      ]
     },
     "execution_count": 127,
     "metadata": {},
     "output_type": "execute_result"
    }
   ],
   "source": [
    "rec_urls"
   ]
  },
  {
   "cell_type": "code",
   "execution_count": 44,
   "metadata": {},
   "outputs": [
    {
     "data": {
      "text/plain": [
       "re.compile(r'^/recipes/food/views/Mahi-Mahi-in-Tomato-Olive-Sauce-[0-9]{6}',\n",
       "re.UNICODE)"
      ]
     },
     "execution_count": 44,
     "metadata": {},
     "output_type": "execute_result"
    }
   ],
   "source": [
    "re.compile('^/recipes/food/views/Mahi-Mahi-in-Tomato-Olive-Sauce-[0-9]{6}')"
   ]
  },
  {
   "cell_type": "code",
   "execution_count": 35,
   "metadata": {},
   "outputs": [
    {
     "data": {
      "text/plain": [
       "'Mahi-Mahi in Tomato Olive Sauce '"
      ]
     },
     "execution_count": 35,
     "metadata": {},
     "output_type": "execute_result"
    }
   ],
   "source": [
    "no_nutri.title.iloc[0]"
   ]
  },
  {
   "cell_type": "code",
   "execution_count": 17,
   "metadata": {},
   "outputs": [
    {
     "name": "stdout",
     "output_type": "stream",
     "text": [
      "Help on method_descriptor:\n",
      "\n",
      "replace(...)\n",
      "    S.replace(old, new[, count]) -> str\n",
      "    \n",
      "    Return a copy of S with all occurrences of substring\n",
      "    old replaced by new.  If the optional argument count is\n",
      "    given, only the first count occurrences are replaced.\n",
      "\n"
     ]
    }
   ],
   "source": [
    "help(str.replace)"
   ]
  },
  {
   "cell_type": "code",
   "execution_count": null,
   "metadata": {},
   "outputs": [],
   "source": []
  },
  {
   "cell_type": "code",
   "execution_count": null,
   "metadata": {},
   "outputs": [],
   "source": []
  },
  {
   "cell_type": "code",
   "execution_count": null,
   "metadata": {},
   "outputs": [],
   "source": []
  }
 ],
 "metadata": {
  "kernelspec": {
   "display_name": "Python 3",
   "language": "python",
   "name": "python3"
  },
  "language_info": {
   "codemirror_mode": {
    "name": "ipython",
    "version": 3
   },
   "file_extension": ".py",
   "mimetype": "text/x-python",
   "name": "python",
   "nbconvert_exporter": "python",
   "pygments_lexer": "ipython3",
   "version": "3.6.5"
  }
 },
 "nbformat": 4,
 "nbformat_minor": 2
}
