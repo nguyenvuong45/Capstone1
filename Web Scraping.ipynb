{
 "cells": [
  {
   "cell_type": "code",
   "execution_count": 1,
   "metadata": {},
   "outputs": [],
   "source": [
    "import pandas as pd\n",
    "import requests\n",
    "import requests_cache\n",
    "import re\n",
    "from bs4 import BeautifulSoup as bs\n",
    "import matplotlib.pyplot as plt\n",
    "import numpy as np\n",
    "from collections import defaultdict\n",
    "import pickle\n",
    "\n",
    "%matplotlib inline\n",
    "requests_cache.install_cache(\"cache4\")"
   ]
  },
  {
   "cell_type": "code",
   "execution_count": 165,
   "metadata": {},
   "outputs": [],
   "source": [
    "# df = pd.read_json('no_nutri.json')\n",
    "# df.title = df.title.str.strip()"
   ]
  },
  {
   "cell_type": "code",
   "execution_count": 166,
   "metadata": {},
   "outputs": [],
   "source": [
    "# df.sort_index(inplace=True)"
   ]
  },
  {
   "cell_type": "code",
   "execution_count": 111,
   "metadata": {},
   "outputs": [
    {
     "name": "stdout",
     "output_type": "stream",
     "text": [
      "True\n"
     ]
    }
   ],
   "source": []
  },
  {
   "cell_type": "code",
   "execution_count": 112,
   "metadata": {},
   "outputs": [
    {
     "name": "stdout",
     "output_type": "stream",
     "text": [
      "https://www.epicurious.com//recipes/food/views/corn-salad-with-hazelnuts-pecorino-and-mint\n"
     ]
    }
   ],
   "source": [
    "for h in s.find_all('a', string='Corn Salad with Hazelnuts, Pecorino, and Mint'): print(base_url + h['href'])"
   ]
  },
  {
   "cell_type": "code",
   "execution_count": 102,
   "metadata": {},
   "outputs": [],
   "source": [
    "with open('td.p', 'wb') as td:\n",
    "    pickle.dump(rec_urls, td, protocol= pickle.HIGHEST_PROTOCOL)"
   ]
  },
  {
   "cell_type": "code",
   "execution_count": 219,
   "metadata": {},
   "outputs": [],
   "source": [
    "with open('td.p','rb') as td:\n",
    "    td2 = pickle.load(td)"
   ]
  },
  {
   "cell_type": "code",
   "execution_count": 220,
   "metadata": {},
   "outputs": [
    {
     "data": {
      "text/plain": [
       "{'/recipes/food/views/corn-salad-with-hazelnuts-pecorino-and-mint'}"
      ]
     },
     "execution_count": 220,
     "metadata": {},
     "output_type": "execute_result"
    }
   ],
   "source": [
    "td2['Corn Salad With Hazelnuts, Pecorino, and Mint']"
   ]
  },
  {
   "cell_type": "code",
   "execution_count": 95,
   "metadata": {},
   "outputs": [],
   "source": [
    "base_url = 'https://www.epicurious.com/'\n",
    "rec_urls = defaultdict(set)"
   ]
  },
  {
   "cell_type": "code",
   "execution_count": 114,
   "metadata": {},
   "outputs": [
    {
     "data": {
      "text/plain": [
       "set()"
      ]
     },
     "execution_count": 114,
     "metadata": {},
     "output_type": "execute_result"
    }
   ],
   "source": [
    "rec_urls['Corn Salad With Hazelnuts, Pecorino, and Mint']"
   ]
  },
  {
   "cell_type": "code",
   "execution_count": 164,
   "metadata": {},
   "outputs": [
    {
     "data": {
      "text/plain": [
       "3746"
      ]
     },
     "execution_count": 164,
     "metadata": {},
     "output_type": "execute_result"
    }
   ],
   "source": [
    "len(rec_urls)"
   ]
  },
  {
   "cell_type": "code",
   "execution_count": 217,
   "metadata": {},
   "outputs": [
    {
     "data": {
      "text/plain": [
       "79"
      ]
     },
     "execution_count": 217,
     "metadata": {},
     "output_type": "execute_result"
    }
   ],
   "source": [
    "len(empty)"
   ]
  },
  {
   "cell_type": "code",
   "execution_count": 197,
   "metadata": {},
   "outputs": [],
   "source": [
    "empty = [e for e in list(df.title) if not rec_urls[e]]\n",
    "# empty\n"
   ]
  },
  {
   "cell_type": "code",
   "execution_count": 221,
   "metadata": {},
   "outputs": [
    {
     "data": {
      "text/plain": [
       "3667"
      ]
     },
     "execution_count": 221,
     "metadata": {},
     "output_type": "execute_result"
    }
   ],
   "source": [
    "len({k:v for k,v in rec_urls.items() if v})\n"
   ]
  },
  {
   "cell_type": "code",
   "execution_count": null,
   "metadata": {},
   "outputs": [],
   "source": [
    "term"
   ]
  },
  {
   "cell_type": "code",
   "execution_count": 210,
   "metadata": {},
   "outputs": [],
   "source": [
    "def get_url(terms):\n",
    "    \n",
    "#     search_urls = [base_url + term.replace(' ', '%20') for term in terms]\n",
    "    for term in terms:\n",
    "        page = 1\n",
    "        while True:\n",
    "            params = {'content':'recipe', 'page':page}\n",
    "            search_url = f\"{base_url}search/{term.replace(' ', '%20')}\"\n",
    "            \n",
    "            req = requests.get(search_url, params=params)\n",
    "            soup = bs(req.text, 'lxml')\n",
    "            \n",
    "            for tag in soup.find_all('a', string = re.compile(term, re.I)): #tweak to find non-matching text\n",
    "                rec_urls[term].add(tag['href'])\n",
    "#             term_format = re.sub('[,\\']','', term.replace(' ', '-').lower())\n",
    "#             regex = f\"^/recipes/food/views/{term_format}-?[0-9]{{0,6}}\"\n",
    "\n",
    "            for tag in soup.find_all('a', attrs = {'href': re.compile(regex)}):\n",
    "                rec_urls[term].add(tag['href'])\n",
    "            \n",
    "            if rec_urls[term]:\n",
    "                print(f\"{rec_urls[term]} : {terms.index(term)}\", req.from_cache, f'page{page}')\n",
    "                break\n",
    "            else:\n",
    "                page += 1\n",
    "            if page == 8:\n",
    "                print(f'Unsuccessful:{term}', req.from_cache, f'page{page}')\n",
    "                break\n",
    "    with open('td.p', 'wb') as td:\n",
    "        pickle.dump(rec_urls, td, protocol= pickle.HIGHEST_PROTOCOL)   \n",
    "     "
   ]
  },
  {
   "cell_type": "code",
   "execution_count": 216,
   "metadata": {},
   "outputs": [],
   "source": [
    "# get_url(empty)"
   ]
  },
  {
   "cell_type": "code",
   "execution_count": null,
   "metadata": {},
   "outputs": [],
   "source": [
    "p = {'content':'recipe', 'page':1}\n",
    "term = 'Corn Salad With Hazelnuts, Pecorino, and Mint'.replace(' ','%20')\n",
    "r = requests.get('https://www.epicurious.com/search/' + term + '?content=recipe&page=1')\n",
    "print(r.from_cache)\n",
    "s = bs(r.text, 'lxml')\n",
    "# print(s)"
   ]
  },
  {
   "cell_type": "code",
   "execution_count": null,
   "metadata": {},
   "outputs": [],
   "source": []
  },
  {
   "cell_type": "code",
   "execution_count": null,
   "metadata": {},
   "outputs": [],
   "source": []
  },
  {
   "cell_type": "code",
   "execution_count": null,
   "metadata": {},
   "outputs": [],
   "source": []
  },
  {
   "cell_type": "code",
   "execution_count": null,
   "metadata": {},
   "outputs": [],
   "source": []
  },
  {
   "cell_type": "code",
   "execution_count": null,
   "metadata": {},
   "outputs": [],
   "source": []
  },
  {
   "cell_type": "code",
   "execution_count": null,
   "metadata": {},
   "outputs": [],
   "source": []
  }
 ],
 "metadata": {
  "kernelspec": {
   "display_name": "Python 3",
   "language": "python",
   "name": "python3"
  },
  "language_info": {
   "codemirror_mode": {
    "name": "ipython",
    "version": 3
   },
   "file_extension": ".py",
   "mimetype": "text/x-python",
   "name": "python",
   "nbconvert_exporter": "python",
   "pygments_lexer": "ipython3",
   "version": "3.6.5"
  }
 },
 "nbformat": 4,
 "nbformat_minor": 2
}
