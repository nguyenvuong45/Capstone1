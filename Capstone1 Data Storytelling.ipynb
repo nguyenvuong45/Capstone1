{
 "cells": [
  {
   "cell_type": "code",
   "execution_count": 848,
   "metadata": {},
   "outputs": [],
   "source": [
    "import pandas as pd\n",
    "import matplotlib.pyplot as plt\n",
    "import numpy as np\n",
    "import pickle\n",
    "import json\n",
    "import scipy.stats as stats\n",
    "import nltk\n",
    "import re\n",
    "\n",
    "from sklearn.feature_extraction.text import TfidfVectorizer\n",
    "from sklearn.feature_extraction.text import CountVectorizer\n",
    "\n",
    "plt.style.use('ggplot')\n",
    "\n",
    "%matplotlib inline\n",
    "plt.rc('figure', figsize=(10,8))\n",
    "plt.rc('patch', force_edgecolor=True, ec='black', lw=1.2)\n",
    "# plt.rcdefaults()"
   ]
  },
  {
   "cell_type": "code",
   "execution_count": null,
   "metadata": {},
   "outputs": [],
   "source": []
  },
  {
   "cell_type": "code",
   "execution_count": 261,
   "metadata": {},
   "outputs": [
    {
     "data": {
      "image/png": "[encoded data removed]",
      "text/plain": [
       "<Figure size 720x576 with 1 Axes>"
      ]
     },
     "metadata": {},
     "output_type": "display_data"
    }
   ],
   "source": [
    "\n",
    "# counts, bins, patches = recipes.hist('calories')\n",
    "fig, ax = plt.subplots()\n",
    "counts, bins, patches = ax.hist(recipes['calories'], bins=15)\n",
    "_ = ax.set_xticks(bins)"
   ]
  },
  {
   "cell_type": "markdown",
   "metadata": {},
   "source": [
    "What kind of recipes, in terms of nutritions, are represented in the dataset? Overall picture of the data."
   ]
  },
  {
   "cell_type": "markdown",
   "metadata": {},
   "source": [
    "Explore trends/pattern, relationships between nutritional data. E.g. Calories relationship to fat, carb, protein, etc....\n",
    "Official figures: 4 calories/gram of carb, 4 per gram/protein, 9 calories/gram of fat"
   ]
  },
  {
   "cell_type": "markdown",
   "metadata": {},
   "source": [
    "Looking at the baseline 2000 calories diet, what do the data reveal about the types of recipes scraped from Epicurious in terms of nutritional values? In other words, how do the different nutritions compare in content? Fat, carb, protein in relation to the recommended for a 2000 calories diet. "
   ]
  },
  {
   "cell_type": "markdown",
   "metadata": {},
   "source": [
    "What types of recipes, in terms of major ingredients, tend to be more relatively \"healthy\" based on caloric and macro nutrient values?"
   ]
  },
  {
   "cell_type": "markdown",
   "metadata": {},
   "source": [
    "Various statistics: Ingredient counts, categories/tags counts, directions and description word counts. Ratings vs. main ingredients. Nutritions vs. main ingredients."
   ]
  },
  {
   "cell_type": "markdown",
   "metadata": {},
   "source": [
    "Correlation between various counts. e.g. length of description/direction against ingredient counts."
   ]
  },
  {
   "cell_type": "markdown",
   "metadata": {},
   "source": [
    "Compare different notable categories: vegetarian, vegan, meat"
   ]
  },
  {
   "cell_type": "code",
   "execution_count": 4,
   "metadata": {},
   "outputs": [
    {
     "name": "stdout",
     "output_type": "stream",
     "text": [
      "<class 'pandas.core.frame.DataFrame'>\n",
      "RangeIndex: 18277 entries, 0 to 18276\n",
      "Data columns (total 12 columns):\n",
      "calories       18277 non-null int64\n",
      "carb           18277 non-null int64\n",
      "categories     18277 non-null object\n",
      "date           18277 non-null datetime64[ns]\n",
      "desc           13655 non-null object\n",
      "directions     18277 non-null object\n",
      "fat            18277 non-null int64\n",
      "ingredients    18277 non-null object\n",
      "protein        18277 non-null int64\n",
      "rating         18277 non-null float64\n",
      "sodium         18277 non-null int64\n",
      "title          18277 non-null object\n",
      "dtypes: datetime64[ns](1), float64(1), int64(5), object(5)\n",
      "memory usage: 1.7+ MB\n"
     ]
    }
   ],
   "source": [
    "recipes = pd.read_pickle('recipes.pkl')\n",
    "recipes.info()"
   ]
  },
  {
   "cell_type": "code",
   "execution_count": 583,
   "metadata": {},
   "outputs": [
    {
     "data": {
      "image/png": "[encoded data removed]",
      "text/plain": [
       "<Figure size 720x576 with 1 Axes>"
      ]
     },
     "metadata": {},
     "output_type": "display_data"
    }
   ],
   "source": [
    "_ = recipes.hist('calories', bins=50, color = 'b')"
   ]
  },
  {
   "cell_type": "code",
   "execution_count": null,
   "metadata": {},
   "outputs": [],
   "source": []
  },
  {
   "cell_type": "code",
   "execution_count": 5,
   "metadata": {},
   "outputs": [
    {
     "data": {
      "text/html": [
       "<div>\n",
       "<style scoped>\n",
       "    .dataframe tbody tr th:only-of-type {\n",
       "        vertical-align: middle;\n",
       "    }\n",
       "\n",
       "    .dataframe tbody tr th {\n",
       "        vertical-align: top;\n",
       "    }\n",
       "\n",
       "    .dataframe thead th {\n",
       "        text-align: right;\n",
       "    }\n",
       "</style>\n",
       "<table border=\"1\" class=\"dataframe\">\n",
       "  <thead>\n",
       "    <tr style=\"text-align: right;\">\n",
       "      <th></th>\n",
       "      <th>calories</th>\n",
       "      <th>carb</th>\n",
       "      <th>categories</th>\n",
       "      <th>date</th>\n",
       "      <th>desc</th>\n",
       "      <th>directions</th>\n",
       "      <th>fat</th>\n",
       "      <th>ingredients</th>\n",
       "      <th>protein</th>\n",
       "      <th>rating</th>\n",
       "      <th>sodium</th>\n",
       "      <th>title</th>\n",
       "    </tr>\n",
       "  </thead>\n",
       "  <tbody>\n",
       "    <tr>\n",
       "      <th>0</th>\n",
       "      <td>426</td>\n",
       "      <td>77</td>\n",
       "      <td>[Sandwich, Bean, Fruit, Tomato, turkey, Vegeta...</td>\n",
       "      <td>2006-09-01 04:00:00</td>\n",
       "      <td>None</td>\n",
       "      <td>[1. Place the stock, lentils, celery, carrot, ...</td>\n",
       "      <td>7</td>\n",
       "      <td>[4 cups low-sodium vegetable or chicken stock,...</td>\n",
       "      <td>30</td>\n",
       "      <td>2.500</td>\n",
       "      <td>559</td>\n",
       "      <td>Lentil, Apple, and Turkey Wrap</td>\n",
       "    </tr>\n",
       "    <tr>\n",
       "      <th>1</th>\n",
       "      <td>403</td>\n",
       "      <td>34</td>\n",
       "      <td>[Food Processor, Onion, Pork, Bake, Bastille D...</td>\n",
       "      <td>2004-08-20 04:00:00</td>\n",
       "      <td>This uses the same ingredients found in boudin...</td>\n",
       "      <td>[Combine first 9 ingredients in heavy medium s...</td>\n",
       "      <td>23</td>\n",
       "      <td>[1 1/2 cups whipping cream, 2 medium onions, c...</td>\n",
       "      <td>18</td>\n",
       "      <td>4.375</td>\n",
       "      <td>1439</td>\n",
       "      <td>Boudin Blanc Terrine with Red Onion Confit</td>\n",
       "    </tr>\n",
       "    <tr>\n",
       "      <th>2</th>\n",
       "      <td>357</td>\n",
       "      <td>92</td>\n",
       "      <td>[Candy, Citrus, Quick &amp; Easy, Low Sodium, Grap...</td>\n",
       "      <td>2004-08-20 12:48:48</td>\n",
       "      <td>None</td>\n",
       "      <td>[Quarter the grapefruits lengthwise and remove...</td>\n",
       "      <td>0</td>\n",
       "      <td>[3 large grapefruits, 13 cups cold water, 4 cu...</td>\n",
       "      <td>1</td>\n",
       "      <td>5.000</td>\n",
       "      <td>17</td>\n",
       "      <td>Candied Grapefruit Zest</td>\n",
       "    </tr>\n",
       "    <tr>\n",
       "      <th>3</th>\n",
       "      <td>691</td>\n",
       "      <td>21</td>\n",
       "      <td>[Leafy Green, Shellfish, Marinate, Sauté, High...</td>\n",
       "      <td>2004-08-20 04:00:00</td>\n",
       "      <td>When Roy Yamaguchi invited me to cook at the 5...</td>\n",
       "      <td>[Preheat oven to 350°F., Dip each crab in milk...</td>\n",
       "      <td>41</td>\n",
       "      <td>[8 soft shell crabs, cleaned (See note), 1 cup...</td>\n",
       "      <td>57</td>\n",
       "      <td>3.750</td>\n",
       "      <td>1533</td>\n",
       "      <td>Soft-Shell Crabs with Wilted Spinach and Warm ...</td>\n",
       "    </tr>\n",
       "    <tr>\n",
       "      <th>4</th>\n",
       "      <td>181</td>\n",
       "      <td>39</td>\n",
       "      <td>[Sauce, Fruit, Ginger, Dessert, Low Sodium, Wh...</td>\n",
       "      <td>2004-08-20 04:00:00</td>\n",
       "      <td>A simple dessert sauce that is absolutely deli...</td>\n",
       "      <td>[Combine Sauternes, sugar, water and whole clo...</td>\n",
       "      <td>1</td>\n",
       "      <td>[1/2 cup plus 2 tablespoons Sauternes or Late ...</td>\n",
       "      <td>1</td>\n",
       "      <td>5.000</td>\n",
       "      <td>11</td>\n",
       "      <td>Kumquat Compote with Sauternes and Ginger</td>\n",
       "    </tr>\n",
       "  </tbody>\n",
       "</table>\n",
       "</div>"
      ],
      "text/plain": [
       "   calories  carb                                         categories  \\\n",
       "0       426    77  [Sandwich, Bean, Fruit, Tomato, turkey, Vegeta...   \n",
       "1       403    34  [Food Processor, Onion, Pork, Bake, Bastille D...   \n",
       "2       357    92  [Candy, Citrus, Quick & Easy, Low Sodium, Grap...   \n",
       "3       691    21  [Leafy Green, Shellfish, Marinate, Sauté, High...   \n",
       "4       181    39  [Sauce, Fruit, Ginger, Dessert, Low Sodium, Wh...   \n",
       "\n",
       "                 date                                               desc  \\\n",
       "0 2006-09-01 04:00:00                                               None   \n",
       "1 2004-08-20 04:00:00  This uses the same ingredients found in boudin...   \n",
       "2 2004-08-20 12:48:48                                               None   \n",
       "3 2004-08-20 04:00:00  When Roy Yamaguchi invited me to cook at the 5...   \n",
       "4 2004-08-20 04:00:00  A simple dessert sauce that is absolutely deli...   \n",
       "\n",
       "                                          directions  fat  \\\n",
       "0  [1. Place the stock, lentils, celery, carrot, ...    7   \n",
       "1  [Combine first 9 ingredients in heavy medium s...   23   \n",
       "2  [Quarter the grapefruits lengthwise and remove...    0   \n",
       "3  [Preheat oven to 350°F., Dip each crab in milk...   41   \n",
       "4  [Combine Sauternes, sugar, water and whole clo...    1   \n",
       "\n",
       "                                         ingredients  protein  rating  sodium  \\\n",
       "0  [4 cups low-sodium vegetable or chicken stock,...       30   2.500     559   \n",
       "1  [1 1/2 cups whipping cream, 2 medium onions, c...       18   4.375    1439   \n",
       "2  [3 large grapefruits, 13 cups cold water, 4 cu...        1   5.000      17   \n",
       "3  [8 soft shell crabs, cleaned (See note), 1 cup...       57   3.750    1533   \n",
       "4  [1/2 cup plus 2 tablespoons Sauternes or Late ...        1   5.000      11   \n",
       "\n",
       "                                               title  \n",
       "0                     Lentil, Apple, and Turkey Wrap  \n",
       "1         Boudin Blanc Terrine with Red Onion Confit  \n",
       "2                            Candied Grapefruit Zest  \n",
       "3  Soft-Shell Crabs with Wilted Spinach and Warm ...  \n",
       "4          Kumquat Compote with Sauternes and Ginger  "
      ]
     },
     "execution_count": 5,
     "metadata": {},
     "output_type": "execute_result"
    }
   ],
   "source": [
    "recipes.head()"
   ]
  },
  {
   "cell_type": "code",
   "execution_count": null,
   "metadata": {},
   "outputs": [],
   "source": [
    "# 13,655 out of 18,277 recipes contain description\n",
    "descriptions = recipes.loc[~recipes.desc.isnull()].reset_index(drop=True)"
   ]
  },
  {
   "cell_type": "code",
   "execution_count": 774,
   "metadata": {},
   "outputs": [],
   "source": [
    "\n",
    "def counts_dist(text_corp, prep = None, tok = None, bins = 10, plot = False):\n",
    "    \n",
    "    if prep:\n",
    "        vect = CountVectorizer(preprocessor=prep, tokenizer=tok)\n",
    "    else:\n",
    "        vect = CountVectorizer()\n",
    "        \n",
    "    count_mat = vect.fit_transform(text_corp)\n",
    "    wc = np.array(count_mat.sum(axis=1)).flatten()\n",
    "    \n",
    "    if plot:\n",
    "        plt.hist(wc, bins = bins)\n",
    "\n",
    "    return pd.Series(wc).describe(), wc"
   ]
  },
  {
   "cell_type": "code",
   "execution_count": 784,
   "metadata": {},
   "outputs": [
    {
     "data": {
      "text/plain": [
       "(count    13655.000000\n",
       " mean        30.832589\n",
       " std         25.653103\n",
       " min          1.000000\n",
       " 25%         13.000000\n",
       " 50%         24.000000\n",
       " 75%         40.000000\n",
       " max        307.000000\n",
       " dtype: float64, array([19, 89, 17, ..., 27, 44, 81], dtype=int64))"
      ]
     },
     "execution_count": 784,
     "metadata": {},
     "output_type": "execute_result"
    },
    {
     "data": {
      "image/png": "[encoded data removed]",
      "text/plain": [
       "<Figure size 720x576 with 1 Axes>"
      ]
     },
     "metadata": {},
     "output_type": "display_data"
    }
   ],
   "source": [
    "# Distribution of word counts in descriptions for recipes with a description. Before cleaning.\n",
    "desc_stats = counts_dist(descriptions.desc, bins='auto', plot = True)\n",
    "_ = plt.title('Word Counts Distribution for Recipes Descriptions (Raw)')\n",
    "_ = plt.xlabel('Number of Words')\n",
    "_ = plt.ylabel('Number of Recipes')\n",
    "desc_stats"
   ]
  },
  {
   "cell_type": "code",
   "execution_count": 786,
   "metadata": {},
   "outputs": [
    {
     "data": {
      "image/png": "[encoded data removed]",
      "text/plain": [
       "<Figure size 720x576 with 1 Axes>"
      ]
     },
     "metadata": {},
     "output_type": "display_data"
    }
   ],
   "source": [
    "# 50 bins\n",
    "_ = counts_dist(descriptions.desc, bins=50, plot = True)"
   ]
  },
  {
   "cell_type": "code",
   "execution_count": 782,
   "metadata": {},
   "outputs": [
    {
     "data": {
      "text/plain": [
       "(count    18277.00000\n",
       " mean       149.72501\n",
       " std         98.82470\n",
       " min          1.00000\n",
       " 25%         83.00000\n",
       " 50%        127.00000\n",
       " 75%        192.00000\n",
       " max       1237.00000\n",
       " dtype: float64, array([145, 241, 235, ...,  71, 137, 311], dtype=int64))"
      ]
     },
     "execution_count": 782,
     "metadata": {},
     "output_type": "execute_result"
    },
    {
     "data": {
      "image/png": "[encoded data removed]",
      "text/plain": [
       "<Figure size 720x576 with 1 Axes>"
      ]
     },
     "metadata": {},
     "output_type": "display_data"
    }
   ],
   "source": [
    "# Distribution of word counts in directions for recipes. Before cleaning.\n",
    "\n",
    "def list_prep(text_list):\n",
    "    return ' '.join(e for e in text_list).lower()\n",
    "\n",
    "dir_stats = counts_dist(recipes.directions, prep=list_prep, bins='auto', plot = True)\n",
    "_ = plt.title('Word Distribution for Recipes Directions (Raw)')\n",
    "_ = plt.xlabel('Number of Words')\n",
    "_ = plt.ylabel('Number of Recipes')\n",
    "dir_stats"
   ]
  },
  {
   "cell_type": "code",
   "execution_count": 790,
   "metadata": {},
   "outputs": [
    {
     "data": {
      "text/plain": [
       "(count    18277.000000\n",
       " mean        10.406084\n",
       " std          4.508740\n",
       " min          1.000000\n",
       " 25%          7.000000\n",
       " 50%         10.000000\n",
       " 75%         13.000000\n",
       " max         41.000000\n",
       " dtype: float64, array([15, 28,  4, ...,  5,  7, 16], dtype=int64))"
      ]
     },
     "execution_count": 790,
     "metadata": {},
     "output_type": "execute_result"
    },
    {
     "data": {
      "image/png": "[encoded data removed]",
      "text/plain": [
       "<Figure size 720x576 with 1 Axes>"
      ]
     },
     "metadata": {},
     "output_type": "display_data"
    }
   ],
   "source": [
    "# Distribution of number of ingredients\n",
    "def dummy(text): # Dummy funct. to use our lists with CountVectorizer\n",
    "    return text\n",
    "\n",
    "ingr_stats = counts_dist(recipes.ingredients, prep=dummy, tok=dummy, bins=15, plot=True)\n",
    "_ = plt.title('Number of Ingredients')\n",
    "_ = plt.xlabel('Ingredients Count')\n",
    "_ = plt.ylabel('Number of Recipes')\n",
    "ingr_stats"
   ]
  },
  {
   "cell_type": "code",
   "execution_count": 791,
   "metadata": {},
   "outputs": [
    {
     "data": {
      "image/png": "[encoded data removed]",
      "text/plain": [
       "<Figure size 720x576 with 1 Axes>"
      ]
     },
     "metadata": {},
     "output_type": "display_data"
    }
   ],
   "source": [
    "# Distribution of number of categories\n",
    "cat_stats = counts_dist(recipes.categories, prep=dummy, tok=dummy, bins=10, plot=True)"
   ]
  },
  {
   "cell_type": "code",
   "execution_count": null,
   "metadata": {},
   "outputs": [],
   "source": []
  },
  {
   "cell_type": "code",
   "execution_count": 832,
   "metadata": {},
   "outputs": [
    {
     "data": {
      "text/plain": [
       "count     721.000000\n",
       "mean      325.233010\n",
       "std       962.797949\n",
       "min         1.000000\n",
       "25%         8.000000\n",
       "50%        47.000000\n",
       "75%       227.000000\n",
       "max      9034.000000\n",
       "dtype: float64"
      ]
     },
     "execution_count": 832,
     "metadata": {},
     "output_type": "execute_result"
    },
    {
     "data": {
      "image/png": "[encoded data removed]",
      "text/plain": [
       "<Figure size 720x576 with 1 Axes>"
      ]
     },
     "metadata": {},
     "output_type": "display_data"
    }
   ],
   "source": [
    "# Counting frequency of categories.\n",
    "\n",
    "# all_cats = []\n",
    "# [all_cats.extend(cat) for cat in recipes.categories]\n",
    "# categories = pd.Series(all_cats)\n",
    "cat_freq = categories.value_counts()\n",
    "\n",
    "_ = plt.hist(categories.value_counts(),bins=30)\n",
    "cat_freq.describe()"
   ]
  },
  {
   "cell_type": "code",
   "execution_count": 833,
   "metadata": {},
   "outputs": [
    {
     "data": {
      "text/plain": [
       "Peanut Free                9034\n",
       "Soy Free                   8741\n",
       "Bon Appétit                8630\n",
       "Tree Nut Free              7692\n",
       "Vegetarian                 7153\n",
       "Kosher                     6710\n",
       "Pescatarian                6590\n",
       "Gourmet                    6008\n",
       "Wheat/Gluten-Free          5407\n",
       "Quick & Easy               5321\n",
       "Bake                       4052\n",
       "Summer                     3782\n",
       "Dairy Free                 3532\n",
       "Side                       3457\n",
       "No Sugar Added             3356\n",
       "Dinner                     3179\n",
       "Dessert                    3109\n",
       "Sugar Conscious            2834\n",
       "Fall                       2817\n",
       "Winter                     2788\n",
       "Kidney Friendly            2437\n",
       "Sauté                      2064\n",
       "Kid-Friendly               2029\n",
       "Vegan                      1998\n",
       "Vegetable                  1983\n",
       "Tomato                     1968\n",
       "Onion                      1865\n",
       "Healthy                    1833\n",
       "Egg                        1721\n",
       "Milk/Cream                 1694\n",
       "                           ... \n",
       "Louisville                    1\n",
       "Turkey                        1\n",
       "Queens                        1\n",
       "Egypt                         1\n",
       "Air Fryer                     1\n",
       "Westwood                      1\n",
       "New Zealand                   1\n",
       "China                         1\n",
       "The Chew                      1\n",
       "Epi Loves the Microwave       1\n",
       "Epi Recipe Club               1\n",
       "Lebanon                       1\n",
       "Yonkers                       1\n",
       "Somalia                       1\n",
       "Kitchen Organization          1\n",
       "Bulgaria                      1\n",
       "Memorial Day                  1\n",
       "India                         1\n",
       "Emeril Lagasse                1\n",
       "Cambodia                      1\n",
       "Dinner Party Gameplan         1\n",
       "Iced Coffee                   1\n",
       "Rome                          1\n",
       "Cleveland                     1\n",
       "Montana                       1\n",
       "Brazil                        1\n",
       "Pacific Palisades             1\n",
       "Mezcal                        1\n",
       "Aspen                         1\n",
       "Costa Mesa                    1\n",
       "Length: 721, dtype: int64"
      ]
     },
     "execution_count": 833,
     "metadata": {},
     "output_type": "execute_result"
    }
   ],
   "source": [
    "cat_freq"
   ]
  },
  {
   "cell_type": "code",
   "execution_count": 834,
   "metadata": {},
   "outputs": [
    {
     "data": {
      "text/plain": [
       "Malaysia                   1\n",
       "Aperitif                   1\n",
       "Cuba                       1\n",
       "Bronx                      1\n",
       "Guacamole                  1\n",
       "Amagansett                 1\n",
       "Nebraska                   1\n",
       "Thailand                   1\n",
       "Guam                       1\n",
       "South Dakota               1\n",
       "Kitchen Olympics           1\n",
       "Camping                    1\n",
       "Fritter                    1\n",
       "Mortar and Pestle          1\n",
       "Mississippi                1\n",
       "Cookbook Critic            1\n",
       "Windsor                    1\n",
       "Hungary                    1\n",
       "Burrito                    1\n",
       "Idaho                      1\n",
       "Jamaica                    1\n",
       "Germany                    1\n",
       "Iowa                       1\n",
       "West Virginia              1\n",
       "Bread Machine              1\n",
       "Louisville                 1\n",
       "Turkey                     1\n",
       "Queens                     1\n",
       "Egypt                      1\n",
       "Air Fryer                  1\n",
       "Westwood                   1\n",
       "New Zealand                1\n",
       "China                      1\n",
       "The Chew                   1\n",
       "Epi Loves the Microwave    1\n",
       "Epi Recipe Club            1\n",
       "Lebanon                    1\n",
       "Yonkers                    1\n",
       "Somalia                    1\n",
       "Kitchen Organization       1\n",
       "Bulgaria                   1\n",
       "Memorial Day               1\n",
       "India                      1\n",
       "Emeril Lagasse             1\n",
       "Cambodia                   1\n",
       "Dinner Party Gameplan      1\n",
       "Iced Coffee                1\n",
       "Rome                       1\n",
       "Cleveland                  1\n",
       "Montana                    1\n",
       "Brazil                     1\n",
       "Pacific Palisades          1\n",
       "Mezcal                     1\n",
       "Aspen                      1\n",
       "Costa Mesa                 1\n",
       "dtype: int64"
      ]
     },
     "execution_count": 834,
     "metadata": {},
     "output_type": "execute_result"
    }
   ],
   "source": [
    "cat_freq[cat_freq == 1]"
   ]
  },
  {
   "cell_type": "code",
   "execution_count": null,
   "metadata": {},
   "outputs": [],
   "source": []
  },
  {
   "cell_type": "code",
   "execution_count": null,
   "metadata": {},
   "outputs": [],
   "source": []
  },
  {
   "cell_type": "code",
   "execution_count": 166,
   "metadata": {},
   "outputs": [
    {
     "data": {
      "text/plain": [
       "['4 cups low-sodium vegetable or chicken stock',\n",
       " '1 cup dried brown lentils',\n",
       " '1/2 cup dried French green lentils',\n",
       " '2 stalks celery, chopped',\n",
       " '1 large carrot, peeled and chopped',\n",
       " '1 sprig fresh thyme',\n",
       " '1 teaspoon kosher salt',\n",
       " '1 medium tomato, cored, seeded, and diced',\n",
       " '1 small Fuji apple, cored and diced',\n",
       " '1 tablespoon freshly squeezed lemon juice',\n",
       " '2 teaspoons extra-virgin olive oil',\n",
       " 'Freshly ground black pepper to taste',\n",
       " '3 sheets whole-wheat lavash, cut in half crosswise, or 6 (12-inch) flour tortillas',\n",
       " '3/4 pound turkey breast, thinly sliced',\n",
       " '1/2 head Bibb lettuce']"
      ]
     },
     "execution_count": 166,
     "metadata": {},
     "output_type": "execute_result"
    }
   ],
   "source": [
    "recipes.ingredients[0]"
   ]
  },
  {
   "cell_type": "code",
   "execution_count": null,
   "metadata": {},
   "outputs": [],
   "source": []
  },
  {
   "cell_type": "code",
   "execution_count": null,
   "metadata": {},
   "outputs": [],
   "source": []
  },
  {
   "cell_type": "code",
   "execution_count": 889,
   "metadata": {},
   "outputs": [],
   "source": [
    "#Stop words, adding recipes specific words to sklearn and nltk's builtin lists\n",
    "from sklearn.feature_extraction import stop_words\n",
    "from sklearn.metrics.pairwise import cosine_similarity\n",
    "\n",
    "sw = set(stop_words.ENGLISH_STOP_WORDS)\n",
    "sw.update(nltk.corpus.stopwords.words('english'))"
   ]
  },
  {
   "cell_type": "code",
   "execution_count": null,
   "metadata": {},
   "outputs": [],
   "source": [
    "# r'\\b\\w[^\\d\\W]{2,}\\b' \n"
   ]
  },
  {
   "cell_type": "code",
   "execution_count": 890,
   "metadata": {},
   "outputs": [],
   "source": [
    "desc_tfidf = TfidfVectorizer(stop_words=sw, token_pattern=r'\\b\\w[^\\d\\W]{2,}\\b', )\n",
    "desc_mat = desc_tfidf.fit_transform(descriptions.desc)\n",
    "cos_sims = cosine_similarity(desc_mat, desc_mat)"
   ]
  },
  {
   "cell_type": "code",
   "execution_count": null,
   "metadata": {},
   "outputs": [],
   "source": []
  },
  {
   "cell_type": "code",
   "execution_count": null,
   "metadata": {},
   "outputs": [],
   "source": []
  },
  {
   "cell_type": "code",
   "execution_count": null,
   "metadata": {},
   "outputs": [],
   "source": []
  },
  {
   "cell_type": "code",
   "execution_count": null,
   "metadata": {},
   "outputs": [],
   "source": []
  },
  {
   "cell_type": "code",
   "execution_count": null,
   "metadata": {},
   "outputs": [],
   "source": []
  },
  {
   "cell_type": "code",
   "execution_count": null,
   "metadata": {},
   "outputs": [],
   "source": []
  },
  {
   "cell_type": "code",
   "execution_count": null,
   "metadata": {},
   "outputs": [],
   "source": []
  },
  {
   "cell_type": "code",
   "execution_count": null,
   "metadata": {},
   "outputs": [],
   "source": []
  },
  {
   "cell_type": "code",
   "execution_count": null,
   "metadata": {},
   "outputs": [],
   "source": []
  },
  {
   "cell_type": "code",
   "execution_count": null,
   "metadata": {},
   "outputs": [],
   "source": []
  },
  {
   "cell_type": "code",
   "execution_count": null,
   "metadata": {},
   "outputs": [],
   "source": []
  },
  {
   "cell_type": "code",
   "execution_count": null,
   "metadata": {},
   "outputs": [],
   "source": []
  },
  {
   "cell_type": "code",
   "execution_count": null,
   "metadata": {},
   "outputs": [],
   "source": []
  },
  {
   "cell_type": "code",
   "execution_count": null,
   "metadata": {},
   "outputs": [],
   "source": []
  },
  {
   "cell_type": "code",
   "execution_count": null,
   "metadata": {},
   "outputs": [],
   "source": []
  },
  {
   "cell_type": "code",
   "execution_count": null,
   "metadata": {},
   "outputs": [],
   "source": []
  },
  {
   "cell_type": "code",
   "execution_count": null,
   "metadata": {},
   "outputs": [],
   "source": []
  },
  {
   "cell_type": "code",
   "execution_count": null,
   "metadata": {},
   "outputs": [],
   "source": []
  },
  {
   "cell_type": "code",
   "execution_count": null,
   "metadata": {},
   "outputs": [],
   "source": []
  },
  {
   "cell_type": "code",
   "execution_count": null,
   "metadata": {},
   "outputs": [],
   "source": []
  },
  {
   "cell_type": "code",
   "execution_count": null,
   "metadata": {},
   "outputs": [],
   "source": []
  },
  {
   "cell_type": "code",
   "execution_count": null,
   "metadata": {},
   "outputs": [],
   "source": []
  },
  {
   "cell_type": "code",
   "execution_count": null,
   "metadata": {},
   "outputs": [],
   "source": []
  },
  {
   "cell_type": "code",
   "execution_count": null,
   "metadata": {},
   "outputs": [],
   "source": []
  },
  {
   "cell_type": "code",
   "execution_count": null,
   "metadata": {},
   "outputs": [],
   "source": []
  },
  {
   "cell_type": "code",
   "execution_count": null,
   "metadata": {},
   "outputs": [],
   "source": []
  },
  {
   "cell_type": "code",
   "execution_count": null,
   "metadata": {},
   "outputs": [],
   "source": []
  },
  {
   "cell_type": "code",
   "execution_count": null,
   "metadata": {},
   "outputs": [],
   "source": []
  },
  {
   "cell_type": "code",
   "execution_count": null,
   "metadata": {},
   "outputs": [],
   "source": []
  },
  {
   "cell_type": "code",
   "execution_count": null,
   "metadata": {},
   "outputs": [],
   "source": []
  },
  {
   "cell_type": "code",
   "execution_count": null,
   "metadata": {},
   "outputs": [],
   "source": []
  },
  {
   "cell_type": "code",
   "execution_count": null,
   "metadata": {},
   "outputs": [],
   "source": []
  },
  {
   "cell_type": "code",
   "execution_count": null,
   "metadata": {},
   "outputs": [],
   "source": []
  },
  {
   "cell_type": "code",
   "execution_count": null,
   "metadata": {},
   "outputs": [],
   "source": []
  },
  {
   "cell_type": "code",
   "execution_count": null,
   "metadata": {},
   "outputs": [],
   "source": []
  },
  {
   "cell_type": "code",
   "execution_count": null,
   "metadata": {},
   "outputs": [],
   "source": []
  },
  {
   "cell_type": "code",
   "execution_count": null,
   "metadata": {},
   "outputs": [],
   "source": []
  },
  {
   "cell_type": "code",
   "execution_count": 872,
   "metadata": {},
   "outputs": [],
   "source": [
    "\n",
    "\n",
    "# def preprocess(text):\n",
    "    \n",
    "#     sw = nltk.corpus.stopwords.words('english')\n",
    "\n",
    "#         tok = nltk.wordpunct_tokenize(text)\n",
    "#         tok = [w for w in tok if w not in nltk.corpus.stopwords.words('english')]\n",
    "# #     return(' '.join(tok))\n",
    "#     return tok\n",
    "\n",
    "# preprocess(sent[0])"
   ]
  },
  {
   "cell_type": "code",
   "execution_count": null,
   "metadata": {},
   "outputs": [],
   "source": []
  },
  {
   "cell_type": "code",
   "execution_count": 873,
   "metadata": {},
   "outputs": [],
   "source": [
    "# descriptions.ingredients[1]"
   ]
  },
  {
   "cell_type": "code",
   "execution_count": 883,
   "metadata": {},
   "outputs": [
    {
     "name": "stdout",
     "output_type": "stream",
     "text": [
      "  (0, 8)\t1\n",
      "  (0, 11)\t1\n",
      "  (0, 1)\t1\n",
      "  (0, 6)\t1\n",
      "  (0, 15)\t1\n",
      "  (0, 14)\t1\n",
      "  (0, 16)\t2\n",
      "  (0, 10)\t1\n",
      "  (0, 7)\t1\n",
      "  (0, 12)\t1\n",
      "  (0, 0)\t1\n",
      "  (0, 5)\t2\n",
      "  (0, 13)\t1\n",
      "  (1, 3)\t1\n",
      "  (1, 2)\t1\n",
      "  (1, 5)\t1\n",
      "  (1, 13)\t1\n",
      "  (2, 4)\t1\n",
      "  (2, 9)\t1\n",
      "  (2, 2)\t2\n"
     ]
    },
    {
     "data": {
      "text/plain": [
       "matrix([[15],\n",
       "        [ 4],\n",
       "        [ 4]], dtype=int64)"
      ]
     },
     "execution_count": 883,
     "metadata": {},
     "output_type": "execute_result"
    }
   ],
   "source": [
    "sent = [[\"This is a test mr. sentence 4, you've we'll you didn't,10 100 10this is not!, @\", 'this is good great', 'nothing good good here'],['this', 'that']]\n",
    "# sent = [\"this is a test mr. sentence 4 you didn't, wouldn't this is not!, @.\"]\n",
    "# vect = CountVectorizer(preprocessor=lambda x:x, tokenizer=lambda x:x)\n",
    "vect = CountVectorizer(token_pattern=r'\\b[^\\d\\W]+\\b')\n",
    "# , token_pattern=r'\\b[^\\d\\W]+\\b'\n",
    "vect_mat = vect.fit_transform(sent[0])\n",
    "# vect_mat.toarray()\n",
    "print(vect_mat)\n",
    "vect_mat.sum(axis=1)"
   ]
  },
  {
   "cell_type": "code",
   "execution_count": 861,
   "metadata": {},
   "outputs": [
    {
     "data": {
      "text/plain": [
       "\"This is a test mr. sentence 4 you didn't,10 100 10this is not!, @\""
      ]
     },
     "execution_count": 861,
     "metadata": {},
     "output_type": "execute_result"
    }
   ],
   "source": [
    "sent[0][0]"
   ]
  },
  {
   "cell_type": "code",
   "execution_count": 881,
   "metadata": {},
   "outputs": [
    {
     "data": {
      "text/plain": [
       "{'this': 12,\n",
       " 'is': 5,\n",
       " 'a': 0,\n",
       " 'test': 11,\n",
       " 'mr': 6,\n",
       " 'sentence': 9,\n",
       " 'you': 13,\n",
       " 'didn': 1,\n",
       " 't': 10,\n",
       " 'not': 7,\n",
       " 'good': 2,\n",
       " 'great': 3,\n",
       " 'nothing': 8,\n",
       " 'here': 4}"
      ]
     },
     "execution_count": 881,
     "metadata": {},
     "output_type": "execute_result"
    }
   ],
   "source": [
    "vect.vocabulary_"
   ]
  },
  {
   "cell_type": "code",
   "execution_count": null,
   "metadata": {},
   "outputs": [],
   "source": []
  },
  {
   "cell_type": "code",
   "execution_count": 865,
   "metadata": {},
   "outputs": [
    {
     "data": {
      "text/plain": [
       "['This',\n",
       " 'is',\n",
       " 'test',\n",
       " 'mr',\n",
       " 'sentence',\n",
       " 'you',\n",
       " 'didn',\n",
       " '10',\n",
       " '100',\n",
       " '10this',\n",
       " 'is',\n",
       " 'not']"
      ]
     },
     "execution_count": 865,
     "metadata": {},
     "output_type": "execute_result"
    }
   ],
   "source": [
    "pattern = re.compile('(?u)\\\\b\\\\w\\\\w+\\\\b')\n",
    "pattern\n",
    "#r'\\b[^\\d\\W]+\\b'\n",
    "pattern.findall(sent[0][0])"
   ]
  },
  {
   "cell_type": "code",
   "execution_count": 888,
   "metadata": {},
   "outputs": [
    {
     "data": {
      "text/plain": [
       "['This', 'test', 'sentence', 'you', 'you', 'didn', 'not']"
      ]
     },
     "execution_count": 888,
     "metadata": {},
     "output_type": "execute_result"
    }
   ],
   "source": [
    "pat2 = re.compile(r'\\b\\w[^\\d\\W]{2,}\\b')\n",
    "pat2.findall(sent[0][0])"
   ]
  },
  {
   "cell_type": "code",
   "execution_count": 93,
   "metadata": {},
   "outputs": [
    {
     "data": {
      "text/plain": [
       "'When Roy Yamaguchi invited me to cook at the 5th Anniversary celebration of his Oahu restaurant, I wanted to bring him something special from my neck of the woods and decided to attempt to transport soft-shelled crabs. I say \"attempt\" because soft-shells are very delicate and I wasn\\'t sure they\\'d survive the long trip to Hawaii. Happily, of the 10 dozen live ones we packed up, about 8 dozen were still kicking when we got to our destination. I served them with simple accompaniments like wilted spinach and a crushed summer tomato vinaigrette.'"
      ]
     },
     "execution_count": 93,
     "metadata": {},
     "output_type": "execute_result"
    }
   ],
   "source": [
    "descriptions.desc[1]"
   ]
  },
  {
   "cell_type": "code",
   "execution_count": null,
   "metadata": {},
   "outputs": [],
   "source": []
  },
  {
   "cell_type": "code",
   "execution_count": null,
   "metadata": {},
   "outputs": [],
   "source": []
  },
  {
   "cell_type": "code",
   "execution_count": null,
   "metadata": {},
   "outputs": [],
   "source": []
  },
  {
   "cell_type": "code",
   "execution_count": null,
   "metadata": {},
   "outputs": [],
   "source": []
  },
  {
   "cell_type": "code",
   "execution_count": null,
   "metadata": {},
   "outputs": [],
   "source": []
  },
  {
   "cell_type": "code",
   "execution_count": null,
   "metadata": {},
   "outputs": [],
   "source": []
  },
  {
   "cell_type": "code",
   "execution_count": null,
   "metadata": {},
   "outputs": [],
   "source": []
  }
 ],
 "metadata": {
  "kernelspec": {
   "display_name": "Python 3",
   "language": "python",
   "name": "python3"
  },
  "language_info": {
   "codemirror_mode": {
    "name": "ipython",
    "version": 3
   },
   "file_extension": ".py",
   "mimetype": "text/x-python",
   "name": "python",
   "nbconvert_exporter": "python",
   "pygments_lexer": "ipython3",
   "version": "3.6.8"
  }
 },
 "nbformat": 4,
 "nbformat_minor": 2
}
